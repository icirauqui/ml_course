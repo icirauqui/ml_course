{
 "cells": [
  {
   "cell_type": "markdown",
   "metadata": {},
   "source": [
    "# 13. Aprendizaje por Refuerzo - Deep Q-Learning - Lunar Lander\n",
    "\n",
    "Vamos a entrenar un agente para que aprenda a aterrizar el módulo lunar.\n",
    "\n",
    "<img src=\"./images/lunar_lander.gif\" width = 60% >"
   ]
  },
  {
   "cell_type": "markdown",
   "metadata": {},
   "source": [
    "## Preparación del entorno"
   ]
  },
  {
   "cell_type": "code",
   "execution_count": 1,
   "metadata": {
    "id": "KYbOPKRtfQOr"
   },
   "outputs": [],
   "source": [
    "import time\n",
    "from collections import deque, namedtuple\n",
    "\n",
    "import gym              # Colección de entornos de prueba para algoritmos de aprendizaje por refuerzo `pip install gym`\n",
    "import numpy as np\n",
    "import PIL.Image        # Para visualizar el entorno y los resultados\n",
    "import tensorflow as tf\n",
    "import utils_A1\n",
    "\n",
    "from pyvirtualdisplay import Display\n",
    "from tensorflow.keras import Sequential\n",
    "from tensorflow.keras.layers import Dense, Input\n",
    "from tensorflow.keras.losses import MSE\n",
    "from tensorflow.keras.optimizers import Adam\n",
    "\n"
   ]
  },
  {
   "cell_type": "code",
   "execution_count": 4,
   "metadata": {},
   "outputs": [],
   "source": [
    "# Hyperparameters\n",
    "MEMORY_SIZE = 100_000     # size of memory buffer.\n",
    "GAMMA = 0.995             # discount factor.\n",
    "ALPHA = 1e-3              # learning rate.\n",
    "NUM_STEPS_FOR_UPDATE = 4  # perform a learning update every C time steps."
   ]
  },
  {
   "cell_type": "markdown",
   "metadata": {},
   "source": [
    "## Lunar Lander Environment\n",
    "\n",
    "[OpenAI's Gym Library](https://www.gymlibrary.dev/) proporciona un conjunto de entornos preparados para aprendizaje por refuerzo.\n",
    "Un 'entorno' representa un problema o tarea a resolver, e incluye la definición del 'mundo' en el que se desarrolla la tarea, las acciones que puede realizar el agente, y la forma en que se evalúa la tarea.\n",
    "\n",
    "En este caso, vamos a utilizar el entorno [Lunar Lander](https://www.gymlibrary.dev/environments/box2d/lunar_lander/) de la librería Box2D de OpenAI Gym.\n",
    "\n",
    "El objetivo del entorno Lunar Lander es aterrizar el módulo lunar de forma segura en la plataforma de aterrizaje en la superficie de la luna. La plataforma de aterrizaje está designada por dos banderines y siempre está en las coordenadas `(0,0)`, pero el módulo lunar también puede aterrizar fuera de la plataforma de aterrizaje. El módulo lunar comienza en la parte superior central del entorno con una fuerza inicial aleatoria aplicada a su centro de masa y tiene combustible infinito. El entorno se considera resuelto si obtienes `200` puntos.\n",
    "\n",
    "\n",
    "<br>\n",
    "<img src = \"images/lunar_lander.gif\" width = 40%>\n",
    "\n",
    "\n",
    "### 1. Action Space\n",
    "\n",
    "En cada paso de tiempo, el agente puede realizar una de las siguientes acciones:\n",
    "\n",
    "* No hacer nada.\n",
    "* Encender el motor derecho.\n",
    "* Encender el motor principal.\n",
    "* Encender el motor izquierdo.\n",
    "\n",
    "Cada acción tiene un valor numérico correspondiente:\n",
    "\n",
    "```python\n",
    "No hacer nada = 0\n",
    "Encender motor derecho = 1\n",
    "Encender motor principal = 2\n",
    "Encender motor izquierdo = 3\n",
    "```\n",
    "\n",
    "### 2 Observation Space\n",
    "\n",
    "El agente recibe información sobre el estado del entorno en cada paso de tiempo. El espacio de observación del agente consta de un vector de estado con 8 variables:\n",
    "\n",
    "* Coordenadas $(x,y)$.\n",
    "* Velocidades lineales $(\\dot x,\\dot y)$.\n",
    "* Ángulo $\\theta$.\n",
    "* Velocidad angular $\\dot \\theta$.\n",
    "* Dos booleanos, $l$ y $r$, que representan si cada pierna está en contacto con el suelo o no.\n",
    "\n",
    "\n",
    "### 3 Rewards\n",
    "\n",
    "El entorno Lunar Lander tiene el siguiente sistema de recompensas:\n",
    "\n",
    "* Aterrizar en la plataforma de aterrizaje y detenerse es de unos 100-140 puntos.\n",
    "* Si el módulo lunar se aleja de la plataforma de aterrizaje, pierde recompensa.\n",
    "* Si el módulo lunar se estrella, recibe -100 puntos.\n",
    "* Si el módulo lunar se detiene, recibe +100 puntos.\n",
    "* Cada pierna con contacto con el suelo es +10 puntos.\n",
    "* Encender el motor principal es -0.3 puntos por cada fotograma.\n",
    "* Encender el motor lateral es -0.03 puntos por cada fotograma.\n",
    "\n",
    "\n",
    "### 4 Episode Termination\n",
    "\n",
    "Un episodio termina (es decir, el entorno entra en un estado terminal) si:\n",
    "\n",
    "* El módulo lunar se estrella (es decir, si el cuerpo del módulo lunar entra en contacto con la superficie de la luna).\n",
    "* El valor absoluto de la coordenada $x$ del módulo lunar es mayor que 1 (es decir, va más allá del borde izquierdo o derecho).\n",
    "\n",
    "Se puede revisar la documentación completa del entorno en [Open AI Gym documentation](https://www.gymlibrary.dev/environments/box2d/lunar_lander/). "
   ]
  },
  {
   "cell_type": "markdown",
   "metadata": {},
   "source": [
    "## Preparamos el entorno\n",
    "\n",
    "Este se carga con la función `make` de la librería `gym`. Tras cargarlo, es buena idea usar la función `reset` para inicializar el entorno y obtener la primera observación."
   ]
  },
  {
   "cell_type": "code",
   "execution_count": 6,
   "metadata": {
    "id": "ILVMYKewfR0n"
   },
   "outputs": [],
   "source": [
    "env = gym.make('LunarLander-v2', render_mode=\"human\")"
   ]
  },
  {
   "cell_type": "code",
   "execution_count": 7,
   "metadata": {},
   "outputs": [
    {
     "data": {
      "text/plain": [
       "(array([-0.00552187,  1.3984284 , -0.55931914, -0.5552006 ,  0.00640524,\n",
       "         0.12669422,  0.        ,  0.        ], dtype=float32),\n",
       " {})"
      ]
     },
     "execution_count": 7,
     "metadata": {},
     "output_type": "execute_result"
    }
   ],
   "source": [
    "env.reset()"
   ]
  },
  {
   "cell_type": "markdown",
   "metadata": {},
   "source": [
    "Vamos a resolver el problema utilizando una red neuronal, para lo que necesitamos conocer el tamaño del vector de estado y el número de acciones válidas. Podemos obtener esta información de nuestro entorno utilizando los métodos `.observation_space.shape` y `action_space.n`, respectivamente.\n"
   ]
  },
  {
   "cell_type": "code",
   "execution_count": 97,
   "metadata": {
    "id": "x3fdqdG4CUu2"
   },
   "outputs": [
    {
     "name": "stdout",
     "output_type": "stream",
     "text": [
      "State Shape: (8,)\n",
      "Number of actions: 4\n"
     ]
    }
   ],
   "source": [
    "state_size = env.observation_space.shape\n",
    "num_actions = env.action_space.n\n",
    "\n",
    "print('State Shape:', state_size)\n",
    "print('Number of actions:', num_actions)"
   ]
  },
  {
   "cell_type": "markdown",
   "metadata": {},
   "source": [
    "El paquete gym define la estructura básica del aprendizaje por refuerzo:\n",
    "\n",
    "<br>\n",
    "<img src = \"images/rl_formalism.png\" width = 40%>\n",
    "\n",
    "En un loop de aprendizaje por refuerzo estándar, un agente interactúa con el entorno en pasos discretos de tiempo $t=0,1,2,...$. En cada paso de tiempo $t$, el agente utiliza una política $\\pi$ para seleccionar una acción $A_t$ basada en su observación del estado $S_t$ del entorno. El agente recibe una recompensa numérica $R_t$ y en el siguiente paso de tiempo, se mueve a un nuevo estado $S_{t+1}$.\n",
    "\n",
    "En los entornos definidos con el paquete Gym se usa la función `.step()` para avanzar un paso (ejecutar un ciclo) en la dinámica del entorno, en nuestro caso, esto equivale a aplicar la acción que se escoja y a actualizar las siguietnes variables que se definen en el entorno:\n",
    "\n",
    "* `observation` (**object**): es una clase específica del entrono, en el módulo lunar, corresponde con un array numpy con el \"observation space\" definido antes.\n",
    "\n",
    "* `reward` (**float**): recompensa resultado de tomar una acción.\n",
    "\n",
    "* `done` (**boolean**): indica que el episodio a terminado (`True`) o no.\n",
    "\n",
    "* `truncated` (**boolean**): indica que el episodio se ha truncado (`True`) o no.\n",
    "\n",
    "* `info` (**dictionary**): información adicional que puede ser útil para depurar el entorno."
   ]
  },
  {
   "cell_type": "code",
   "execution_count": 98,
   "metadata": {},
   "outputs": [],
   "source": [
    "# Reset the environment and get the initial state.\n",
    "initial_state = env.reset()"
   ]
  },
  {
   "cell_type": "markdown",
   "metadata": {},
   "source": [
    "Con el entorno en el punto de origen, podem empezar a realizar acciones usando el método `.step()`, el agente realiza una acción por paso de tiempo.\n",
    "\n",
    "```python\n",
    "No hacer nada = 0\n",
    "Encender motor derecho = 1\n",
    "Encender motor principal = 2\n",
    "Encender motor izquierdo = 3\n",
    "```"
   ]
  },
  {
   "cell_type": "code",
   "execution_count": 8,
   "metadata": {},
   "outputs": [
    {
     "name": "stderr",
     "output_type": "stream",
     "text": [
      "c:\\Users\\icira\\AppData\\Local\\Programs\\Python\\Python311\\Lib\\site-packages\\gym\\utils\\passive_env_checker.py:233: DeprecationWarning: `np.bool8` is a deprecated alias for `np.bool_`.  (Deprecated NumPy 1.24)\n",
      "  if not isinstance(terminated, (bool, np.bool8)):\n"
     ]
    }
   ],
   "source": [
    "# Select an action.\n",
    "action = 0\n",
    "\n",
    "# Run a single time step of the environment's dynamics with the given action.\n",
    "next_state, reward, done, _, _ = env.step(action)\n",
    "\n",
    "# Display table with values. All values are displayed to 3 decimal places.\n",
    "env.render()"
   ]
  },
  {
   "cell_type": "code",
   "execution_count": 11,
   "metadata": {},
   "outputs": [],
   "source": [
    "env.reset()\n",
    "\n",
    "for i in range(40):\n",
    "    next_state, reward, done, _, _ = env.step(0)\n",
    "    env.render()\n",
    "    time.sleep(0.1)\n",
    "\n",
    "for i in range(30):\n",
    "    next_state, reward, done, _, _ = env.step(2)\n",
    "    env.render()\n",
    "    time.sleep(0.1)\n",
    "\n",
    "for i in range(30):\n",
    "    next_state, reward, done, _, _ = env.step(3)\n",
    "    env.render()\n",
    "    time.sleep(0.1)"
   ]
  },
  {
   "cell_type": "markdown",
   "metadata": {},
   "source": [
    "## Deep Q-Learning\n",
    "\n",
    "En los casos en que tanto el espacio de estados como el de acciones son discretos, podemos estimar la función de valor de acción de forma iterativa utilizando la ecuación de Bellman:\n",
    "\n",
    "$$\n",
    "Q_{i+1}(s,a) = R + \\gamma \\max_{a'}Q_i(s',a')\n",
    "$$\n",
    "\n",
    "Este método iterativo converge a la función de valor de acción óptima $Q^*(s,a)$ cuando $i\\to\\infty$. Esto significa que el agente solo necesita explorar gradualmente el espacio de estados y acciones y seguir actualizando la estimación de $Q(s,a)$ hasta que converja a la función de valor de acción óptima $Q^*(s,a)$. Sin embargo, en los casos en que el espacio de estados es continuo, se vuelve prácticamente imposible explorar todo el espacio de estados y acciones. En consecuencia, esto también hace prácticamente imposible estimar gradualmente $Q(s,a)$ hasta que converge a $Q^*(s,a)$.\n",
    "\n",
    "En el aprendizaje profundo, podemos utilizar una red neuronal para estimar la función de valor de acción $Q(s,a)$. En este caso, la función de valor de acción se denomina $Q$-Network. En lugar de actualizar la estimación de $Q(s,a)$ en cada iteración, podemos utilizar la red neuronal para estimar $Q(s,a)$ y actualizar los pesos de la red neuronal para minimizar el error cuadrático medio en la ecuación de Bellman:\n",
    "\n",
    "$$\n",
    "\\left(Q(s,a) - \\left[R + \\gamma \\max_{a'}Q(s',a')\\right]\\right)^2\n",
    "$$\n",
    "\n",
    "Usar una red neuronal en aprendizaje por refuerzo puede ser intestable, pero hay un par de técnicas que se pueden emplear para evitar la inestabilidad. Estas técnicas consisten en usar una ***Target Network*** y ***Experience Replay***. Exploraremos estas dos técnicas en las siguientes secciones."
   ]
  },
  {
   "cell_type": "markdown",
   "metadata": {},
   "source": [
    "### 1. Target Network\n",
    "\n",
    "Para entrenar la red, añadimos los \"pesos\" a la ecuación de Bellman:\n",
    "\n",
    "$$\n",
    "y = R + \\gamma \\max_{a'}Q(s',a';w)\n",
    "$$\n",
    "\n",
    "En cada iteración, ajustamos los pesos para reducir el siguiente error:\n",
    "\n",
    "$$\n",
    "\\overbrace{\\underbrace{R + \\gamma \\max_{a'}Q(s',a'; w)}_{\\rm {y~target}} - Q(s,a;w)}^{\\rm {Error}}\n",
    "$$\n",
    "\n",
    "En el aprendizaje supervisado estandar, y es conocido de antemano. Sin embargo, en este caso no lo conocemos. y depende del estado y cambia con cada iteración, es decir, tenemos un objetivo que siempre varía, lo que al momento de ajustar la red, puede llevar a inesabilidades.\n",
    "\n",
    "Para evitar esto, podemos crear una red separada para generar los objetivos y la llamaremos **Target Network**. La Target Network tendrá la misma arquitectura que la red original. Al usar la Target Network, el error anterior se convierte en:\n",
    "\n",
    "$$\n",
    "\\overbrace{\\underbrace{R + \\gamma \\max_{a'}\\hat{Q}(s',a'; w^-)}_{\\rm {y~target}} - Q(s,a;w)}^{\\rm {Error}}\n",
    "$$\n",
    "\n",
    "donde $w^-$ son los pesos de la Target $\\hat Q$-Network and $w$ son los pesos de la $Q$-Network.\n",
    "\n",
    "En la práctica usamos el siguiente algorithmo: cada $C$ pasos de tiempo usamos la $\\hat Q$-Network para generar los objetivos $y$ y actualizamos los pesos de la Target $\\hat Q$-Network usando los pesos de la $Q$-Network. Actualizamos los pesos $w^-$ de la Target $\\hat Q$-Network usando una **soft update**. Esto significa que actualizamos los pesos $w^-$ usando la siguiente regla:\n",
    " \n",
    "$$\n",
    "w^-\\leftarrow \\tau w + (1 - \\tau) w^-\n",
    "$$\n",
    "\n",
    "donde $\\tau\\ll 1$. Al usar la soft update, nos aseguramos de que los valores objetivo $y$ cambien lentamente, lo que mejora enormemente la estabilidad de nuestro algoritmo de aprendizaje."
   ]
  },
  {
   "cell_type": "markdown",
   "metadata": {},
   "source": [
    "Vamos a crear redes con la siguiente estructura:\n",
    "\n",
    "* Una capa `Input` que toma `state_size` como entrada.\n",
    "\n",
    "* Una capa `Dense` con `64` unidades y una función de activación `relu`.\n",
    "\n",
    "* Una capa `Dense` con `64` unidades y una función de activación `relu`.\n",
    "\n",
    "* Una capa `Dense` con `num_actions` unidades y una función de activación `linear`. Esta será la capa de salida de nuestra red."
   ]
  },
  {
   "cell_type": "code",
   "execution_count": 101,
   "metadata": {},
   "outputs": [],
   "source": [
    "from tensorflow.keras.layers import Dense, Input\n",
    "from tensorflow.keras.optimizers import Adam"
   ]
  },
  {
   "cell_type": "code",
   "execution_count": 102,
   "metadata": {},
   "outputs": [],
   "source": [
    "# Create the Q-Network.\n",
    "q_network = Sequential([\n",
    "    Input(shape=state_size),\n",
    "    Dense(units=64, activation='relu'),\n",
    "    Dense(units=64, activation='relu'),\n",
    "    Dense(units=num_actions, activation='linear')\n",
    "    ])\n",
    "\n",
    "# Create the target Q^-Network.\n",
    "target_q_network = Sequential([\n",
    "    Input(shape=state_size),\n",
    "    Dense(units=64, activation='relu'),\n",
    "    Dense(units=64, activation='relu'),\n",
    "    Dense(units=num_actions, activation='linear')\n",
    "    ])\n",
    "\n",
    "optimizer = Adam(learning_rate=ALPHA)"
   ]
  },
  {
   "cell_type": "markdown",
   "metadata": {},
   "source": [
    "### 2. Experience Replay\n",
    "\n",
    "Cuando un agente interactua con el entorno, los estados, acciones y recompensas que experimenta el agente son secuenciales por naturaleza. \n",
    "\n",
    "Si el agente continuamente intenta aprender de experiencias consecutivas, pueden darse problemas dada la correlación entre ellas. Es decir, entrenar en cada paso causa problemas por lo parecido de los pasos. Para evitar esto, empleamos una técnica conocida como **Experience Replay** para generar experiencias no correlacionadas para entrenar a nuestro agente. Experience Replay consiste en almacenar las experiencias del agente (es decir, los estados, acciones y recompensas que recibe el agente en cada paso) en un buffer de memoria y luego muestrear un mini-batch aleatorio de experiencias del buffer para hacer el aprendizaje. Las tuplas de experiencias $(S_t, A_t, R_t, S_{t+1})$ se añaden al buffer de memoria en cada paso de tiempo a medida que el agente interactua con el entorno.onment."
   ]
  },
  {
   "cell_type": "code",
   "execution_count": 12,
   "metadata": {},
   "outputs": [],
   "source": [
    "# Store experiences as named tuples.\n",
    "experience = namedtuple(\"Experience\", field_names=[\"state\", \"action\", \"reward\", \"next_state\", \"done\"])"
   ]
  },
  {
   "cell_type": "code",
   "execution_count": null,
   "metadata": {},
   "outputs": [],
   "source": [
    "tup = (1, \"hello\", 3.4)"
   ]
  },
  {
   "cell_type": "markdown",
   "metadata": {},
   "source": [
    "## Deep Q-Learning con Experience Replay - Algoritmo\n",
    "\n",
    "1. Inicializar el buffer de memoria D con capacidad N.\n",
    "2. Inicializar la red neuronal Q con pesos aleatorios.\n",
    "3. Inicializar la Target Network $\\hat Q$ con los mismos pesos que la red neuronal Q.\n",
    "4. Para cada episodio (con límite de episodios M):\n",
    "    1. Obtener el estado actual $s$.\n",
    "    2 Para T pasos de tiempo (con límite de pasos de tiempo T):\n",
    "        1. Con probabilidad $\\epsilon$ elegir una acción aleatoria $a$ o elegir la acción $a = \\max_{a'}Q(s,a';w)$.\n",
    "        2. Ejecutar la acción $a$ en el entorno y obtener la recompensa $r$ y el siguiente estado $s'$.\n",
    "        3. Almacenar la tupla $(s,a,r,s')$ en el buffer de memoria D.\n",
    "        4. Cada C pasos, realizar un ciclo de entrenamiento:\n",
    "            1. muestrear un mini-batch aleatorio de experiencias $(s,a,r,s')$ del buffer de memoria D.\n",
    "            2. Calcular el objetivo $y$ para cada experiencia $(s,a,r,s')$.\n",
    "            3. Actualizar los pesos de la red neuronal Q minimizando el error cuadrático medio entre $y$ y $Q(s,a;w)$.\n",
    "            4. Actualizar los pesos de la Target Network $\\hat Q$ usando una soft update.\n",
    "\n",
    "<figure>\n",
    "  <img src = \"images/deep_q_algorithm.png\" width = 90% style = \"border: thin silver solid; padding: 0px\">\n",
    "      <figcaption style = \"text-align: center; font-style: italic\">Fig 3. Deep Q-Learning with Experience Replay.</figcaption>\n",
    "</figure>\n",
    "\n",
    "\n",
    "We are now ready to train our agent to solve the Lunar Lander environment. In the cell below we will implement the algorithm in [Fig 3](#7) line by line (please note that we have included the same algorithm below for easy reference. This will prevent you from scrolling up and down the notebook):\n",
    "\n",
    "* **Line 1**: We initialize the `memory_buffer` with a capacity of $N =$ `MEMORY_SIZE`. Notice that we are using a `deque` as the data structure for our `memory_buffer`.\n",
    "\n",
    "\n",
    "* **Line 2**: We skip this line since we already initialized the `q_network` in [Exercise 1](#ex01).\n",
    "\n",
    "\n",
    "* **Line 3**: We initialize the `target_q_network` by setting its weights to be equal to those of the `q_network`.\n",
    "\n",
    "\n",
    "* **Line 4**: We start the outer loop. Notice that we have set $M =$ `num_episodes = 2000`. This number is reasonable because the agent should be able to solve the Lunar Lander environment in less than `2000` episodes using this notebook's default parameters.\n",
    "\n",
    "\n",
    "* **Line 5**: We use the `.reset()` method to reset the environment to the initial state and get the initial state.\n",
    "\n",
    "\n",
    "* **Line 6**: We start the inner loop. Notice that we have set $T =$ `max_num_timesteps = 1000`. This means that the episode will automatically terminate if the episode hasn't terminated after `1000` time steps.\n",
    "\n",
    "\n",
    "* **Line 7**: The agent observes the current `state` and chooses an `action` using an $\\epsilon$-greedy policy. Our agent starts out using a value of $\\epsilon =$ `epsilon = 1` which yields an $\\epsilon$-greedy policy that is equivalent to the equiprobable random policy. This means that at the beginning of our training, the agent is just going to take random actions regardless of the observed `state`. As training progresses we will decrease the value of $\\epsilon$ slowly towards a minimum value using a given $\\epsilon$-decay rate. We want this minimum value to be close to zero because a value of $\\epsilon = 0$ will yield an $\\epsilon$-greedy policy that is equivalent to the greedy policy. This means that towards the end of training, the agent will lean towards selecting the `action` that it believes (based on its past experiences) will maximize $Q(s,a)$. We will set the minimum $\\epsilon$ value to be `0.01` and not exactly 0 because we always want to keep a little bit of exploration during training. If you want to know how this is implemented in code we encourage you to take a look at the `utils_A1.get_action` function in the `utils_A1` module.\n",
    "\n",
    "\n",
    "* **Line 8**: We use the `.step()` method to take the given `action` in the environment and get the `reward` and the `next_state`. \n",
    "\n",
    "\n",
    "* **Line 9**: We store the `experience(state, action, reward, next_state, done)` tuple in our `memory_buffer`. Notice that we also store the `done` variable so that we can keep track of when an episode terminates. This allowed us to set the $y$ targets in [Exercise 2](#ex02).\n",
    "\n",
    "\n",
    "* **Line 10**: We check if the conditions are met to perform a learning update. We do this by using our custom `utils_A1.check_update_conditions` function. This function checks if $C =$ `NUM_STEPS_FOR_UPDATE = 4` time steps have occured and if our `memory_buffer` has enough experience tuples to fill a mini-batch. For example, if the mini-batch size is `64`, then our `memory_buffer` should have more than `64` experience tuples in order to pass the latter condition. If the conditions are met, then the `utils_A1.check_update_conditions` function will return a value of `True`, otherwise it will return a value of `False`.\n",
    "\n",
    "\n",
    "* **Lines 11 - 14**: If the `update` variable is `True` then we perform a learning update. The learning update consists of sampling a random mini-batch of experience tuples from our `memory_buffer`, setting the $y$ targets, performing gradient descent, and updating the weights of the networks. We will use the `agent_learn` function we defined in [Section 8](#8) to perform the latter 3.\n",
    "\n",
    "\n",
    "* **Line 15**: At the end of each iteration of the inner loop we set `next_state` as our new `state` so that the loop can start again from this new state. In addition, we check if the episode has reached a terminal state (i.e we check if `done = True`). If a terminal state has been reached, then we break out of the inner loop.\n",
    "\n",
    "\n",
    "* **Line 16**: At the end of each iteration of the outer loop we update the value of $\\epsilon$, and check if the environment has been solved. We consider that the environment has been solved if the agent receives an average of `200` points in the last `100` episodes. If the environment has not been solved we continue the outer loop and start a new episode.\n",
    "\n",
    "Finally, we wanted to note that we have included some extra variables to keep track of the total number of points the agent received in each episode. This will help us determine if the agent has solved the environment and it will also allow us to see how our agent performed during training. We also use the `time` module to measure how long the training takes. \n",
    "\n",
    "<br>\n",
    "<br>\n",
    "<figure>\n",
    "  <img src = \"images/deep_q_algorithm.png\" width = 90% style = \"border: thin silver solid; padding: 0px\">\n",
    "      <figcaption style = \"text-align: center; font-style: italic\">Fig 4. Deep Q-Learning with Experience Replay.</figcaption>\n",
    "</figure>\n",
    "<br>\n",
    "\n",
    "**Note:** With this notebook's default parameters, the following cell takes between 10 to 15 minutes to run. "
   ]
  },
  {
   "cell_type": "markdown",
   "metadata": {},
   "source": [
    "Aunque la mayor parte del proceso la realiza TensorFlow, necesitamos implementar la función de coste, con un matiz:\n",
    "\n",
    "$$\n",
    "\\begin{equation}\n",
    "    y_j =\n",
    "    \\begin{cases}\n",
    "      R_j & \\text{if episode terminates at step  } j+1\\\\\n",
    "      R_j + \\gamma \\max_{a'}\\hat{Q}(s_{j+1},a') & \\text{otherwise}\\\\\n",
    "    \\end{cases}       \n",
    "\\end{equation}\n",
    "$$\n",
    "\n",
    "La funcion toma un lote `minibatch` de experiencias $(s,a,r,s')$ y devuelve un vector de valores objetivo $y$ para cada experiencia $(s,a,r,s')$ en el lote `minibatch`. El vector de valores objetivo $y$ se utiliza para calcular el error cuadrático medio entre $y$ y $Q(s,a;w)$."
   ]
  },
  {
   "cell_type": "code",
   "execution_count": 13,
   "metadata": {},
   "outputs": [],
   "source": [
    "from tensorflow.keras.losses import MSE"
   ]
  },
  {
   "cell_type": "code",
   "execution_count": 15,
   "metadata": {},
   "outputs": [],
   "source": [
    "def compute_loss(experiences, gamma, q_network, target_q_network):\n",
    "    \"\"\" \n",
    "    Calculates the loss.\n",
    "    \n",
    "    Args:\n",
    "      experiences: (tuple) tuple of [\"state\", \"action\", \"reward\", \"next_state\", \"done\"] namedtuples\n",
    "      gamma: (float) The discount factor.\n",
    "      q_network: (tf.keras.Sequential) Keras model for predicting the q_values\n",
    "      target_q_network: (tf.keras.Sequential) Keras model for predicting the targets\n",
    "          \n",
    "    Returns:\n",
    "      loss: (TensorFlow Tensor(shape=(0,), dtype=int32)) the Mean-Squared Error between\n",
    "            the y targets and the Q(s,a) values.\n",
    "    \"\"\"\n",
    "    \n",
    "    # Unpack the mini-batch of experience tuples.\n",
    "    states, actions, rewards, next_states, done_vals = experiences\n",
    "    \n",
    "    # Compute max Q^(s,a).\n",
    "    max_qsa = tf.reduce_max(target_q_network(next_states), axis=-1)\n",
    "    \n",
    "    # Set y = R if episode terminates, otherwise set y = R + γ max Q^(s,a).\n",
    "    y_targets = rewards + (gamma * max_qsa * (1 - done_vals))\n",
    "    \n",
    "    # Get the q_values.\n",
    "    q_values = q_network(states)\n",
    "    q_values = tf.gather_nd(q_values, tf.stack([tf.range(q_values.shape[0]),\n",
    "                                                tf.cast(actions, tf.int32)], axis=1))\n",
    "        \n",
    "    # Compute the loss.\n",
    "    loss = MSE(y_targets, q_values) \n",
    "    \n",
    "    return loss"
   ]
  },
  {
   "cell_type": "markdown",
   "metadata": {},
   "source": [
    "Creamos una segunda función `agent_learn` que actualizará los pesos de la red neuronal Q minimizando el error cuadrático medio entre $y$ y $Q(s,a;w)$."
   ]
  },
  {
   "cell_type": "code",
   "execution_count": 16,
   "metadata": {},
   "outputs": [],
   "source": [
    "@tf.function\n",
    "def agent_learn(experiences, gamma):\n",
    "    \"\"\"\n",
    "    Updates the weights of the Q networks.\n",
    "    \n",
    "    Args:\n",
    "      experiences: (tuple) tuple of [\"state\", \"action\", \"reward\", \"next_state\", \"done\"] namedtuples\n",
    "      gamma: (float) The discount factor.\n",
    "    \n",
    "    \"\"\"\n",
    "    \n",
    "    # Calculate the loss.\n",
    "    with tf.GradientTape() as tape:\n",
    "        loss = compute_loss(experiences, gamma, q_network, target_q_network)\n",
    "\n",
    "    # Get the gradients of the loss with respect to the weights.\n",
    "    gradients = tape.gradient(loss, q_network.trainable_variables)\n",
    "    \n",
    "    # Update the weights of the q_network.\n",
    "    optimizer.apply_gradients(zip(gradients, q_network.trainable_variables))\n",
    "\n",
    "    # update the weights of target q_network.\n",
    "    utils_A1.update_target_network(q_network, target_q_network)"
   ]
  },
  {
   "cell_type": "markdown",
   "metadata": {},
   "source": [
    "## Entrenamiento"
   ]
  },
  {
   "cell_type": "code",
   "execution_count": 107,
   "metadata": {},
   "outputs": [
    {
     "name": "stdout",
     "output_type": "stream",
     "text": [
      "Episode 6 | Total point average of the last 100 episodes: -173.86"
     ]
    },
    {
     "ename": "KeyboardInterrupt",
     "evalue": "",
     "output_type": "error",
     "traceback": [
      "\u001b[1;31m---------------------------------------------------------------------------\u001b[0m",
      "\u001b[1;31mKeyboardInterrupt\u001b[0m                         Traceback (most recent call last)",
      "\u001b[1;32mc:\\Users\\icira\\workspace_ceste\\ceste_ml\\notebooks\\13_ReinforcementLearning\\13_ReinforcementLearning.ipynb Cell 30\u001b[0m line \u001b[0;36m3\n\u001b[0;32m     <a href='vscode-notebook-cell:/c%3A/Users/icira/workspace_ceste/ceste_ml/notebooks/13_ReinforcementLearning/13_ReinforcementLearning.ipynb#X51sZmlsZQ%3D%3D?line=26'>27</a>\u001b[0m action \u001b[39m=\u001b[39m utils_A1\u001b[39m.\u001b[39mget_action(q_values, epsilon)\n\u001b[0;32m     <a href='vscode-notebook-cell:/c%3A/Users/icira/workspace_ceste/ceste_ml/notebooks/13_ReinforcementLearning/13_ReinforcementLearning.ipynb#X51sZmlsZQ%3D%3D?line=28'>29</a>\u001b[0m \u001b[39m# Take action A and receive reward R and the next state S'.\u001b[39;00m\n\u001b[1;32m---> <a href='vscode-notebook-cell:/c%3A/Users/icira/workspace_ceste/ceste_ml/notebooks/13_ReinforcementLearning/13_ReinforcementLearning.ipynb#X51sZmlsZQ%3D%3D?line=29'>30</a>\u001b[0m next_state, reward, done, truncated, _ \u001b[39m=\u001b[39m env\u001b[39m.\u001b[39;49mstep(action)\n\u001b[0;32m     <a href='vscode-notebook-cell:/c%3A/Users/icira/workspace_ceste/ceste_ml/notebooks/13_ReinforcementLearning/13_ReinforcementLearning.ipynb#X51sZmlsZQ%3D%3D?line=31'>32</a>\u001b[0m \u001b[39m# Store experience tuple (S,A,R,S') in the memory buffer.\u001b[39;00m\n\u001b[0;32m     <a href='vscode-notebook-cell:/c%3A/Users/icira/workspace_ceste/ceste_ml/notebooks/13_ReinforcementLearning/13_ReinforcementLearning.ipynb#X51sZmlsZQ%3D%3D?line=32'>33</a>\u001b[0m \u001b[39m# We store the done variable as well for convenience.\u001b[39;00m\n\u001b[0;32m     <a href='vscode-notebook-cell:/c%3A/Users/icira/workspace_ceste/ceste_ml/notebooks/13_ReinforcementLearning/13_ReinforcementLearning.ipynb#X51sZmlsZQ%3D%3D?line=33'>34</a>\u001b[0m memory_buffer\u001b[39m.\u001b[39mappend(experience(state, action, reward, next_state, done))\n",
      "File \u001b[1;32mc:\\Users\\icira\\AppData\\Local\\Programs\\Python\\Python311\\Lib\\site-packages\\gym\\wrappers\\time_limit.py:50\u001b[0m, in \u001b[0;36mTimeLimit.step\u001b[1;34m(self, action)\u001b[0m\n\u001b[0;32m     39\u001b[0m \u001b[39mdef\u001b[39;00m \u001b[39mstep\u001b[39m(\u001b[39mself\u001b[39m, action):\n\u001b[0;32m     40\u001b[0m \u001b[39m    \u001b[39m\u001b[39m\"\"\"Steps through the environment and if the number of steps elapsed exceeds ``max_episode_steps`` then truncate.\u001b[39;00m\n\u001b[0;32m     41\u001b[0m \n\u001b[0;32m     42\u001b[0m \u001b[39m    Args:\u001b[39;00m\n\u001b[1;32m   (...)\u001b[0m\n\u001b[0;32m     48\u001b[0m \n\u001b[0;32m     49\u001b[0m \u001b[39m    \"\"\"\u001b[39;00m\n\u001b[1;32m---> 50\u001b[0m     observation, reward, terminated, truncated, info \u001b[39m=\u001b[39m \u001b[39mself\u001b[39;49m\u001b[39m.\u001b[39;49menv\u001b[39m.\u001b[39;49mstep(action)\n\u001b[0;32m     51\u001b[0m     \u001b[39mself\u001b[39m\u001b[39m.\u001b[39m_elapsed_steps \u001b[39m+\u001b[39m\u001b[39m=\u001b[39m \u001b[39m1\u001b[39m\n\u001b[0;32m     53\u001b[0m     \u001b[39mif\u001b[39;00m \u001b[39mself\u001b[39m\u001b[39m.\u001b[39m_elapsed_steps \u001b[39m>\u001b[39m\u001b[39m=\u001b[39m \u001b[39mself\u001b[39m\u001b[39m.\u001b[39m_max_episode_steps:\n",
      "File \u001b[1;32mc:\\Users\\icira\\AppData\\Local\\Programs\\Python\\Python311\\Lib\\site-packages\\gym\\wrappers\\order_enforcing.py:37\u001b[0m, in \u001b[0;36mOrderEnforcing.step\u001b[1;34m(self, action)\u001b[0m\n\u001b[0;32m     35\u001b[0m \u001b[39mif\u001b[39;00m \u001b[39mnot\u001b[39;00m \u001b[39mself\u001b[39m\u001b[39m.\u001b[39m_has_reset:\n\u001b[0;32m     36\u001b[0m     \u001b[39mraise\u001b[39;00m ResetNeeded(\u001b[39m\"\u001b[39m\u001b[39mCannot call env.step() before calling env.reset()\u001b[39m\u001b[39m\"\u001b[39m)\n\u001b[1;32m---> 37\u001b[0m \u001b[39mreturn\u001b[39;00m \u001b[39mself\u001b[39;49m\u001b[39m.\u001b[39;49menv\u001b[39m.\u001b[39;49mstep(action)\n",
      "File \u001b[1;32mc:\\Users\\icira\\AppData\\Local\\Programs\\Python\\Python311\\Lib\\site-packages\\gym\\wrappers\\env_checker.py:39\u001b[0m, in \u001b[0;36mPassiveEnvChecker.step\u001b[1;34m(self, action)\u001b[0m\n\u001b[0;32m     37\u001b[0m     \u001b[39mreturn\u001b[39;00m env_step_passive_checker(\u001b[39mself\u001b[39m\u001b[39m.\u001b[39menv, action)\n\u001b[0;32m     38\u001b[0m \u001b[39melse\u001b[39;00m:\n\u001b[1;32m---> 39\u001b[0m     \u001b[39mreturn\u001b[39;00m \u001b[39mself\u001b[39;49m\u001b[39m.\u001b[39;49menv\u001b[39m.\u001b[39;49mstep(action)\n",
      "File \u001b[1;32mc:\\Users\\icira\\AppData\\Local\\Programs\\Python\\Python311\\Lib\\site-packages\\gym\\envs\\box2d\\lunar_lander.py:599\u001b[0m, in \u001b[0;36mLunarLander.step\u001b[1;34m(self, action)\u001b[0m\n\u001b[0;32m    596\u001b[0m     reward \u001b[39m=\u001b[39m \u001b[39m+\u001b[39m\u001b[39m100\u001b[39m\n\u001b[0;32m    598\u001b[0m \u001b[39mif\u001b[39;00m \u001b[39mself\u001b[39m\u001b[39m.\u001b[39mrender_mode \u001b[39m==\u001b[39m \u001b[39m\"\u001b[39m\u001b[39mhuman\u001b[39m\u001b[39m\"\u001b[39m:\n\u001b[1;32m--> 599\u001b[0m     \u001b[39mself\u001b[39;49m\u001b[39m.\u001b[39;49mrender()\n\u001b[0;32m    600\u001b[0m \u001b[39mreturn\u001b[39;00m np\u001b[39m.\u001b[39marray(state, dtype\u001b[39m=\u001b[39mnp\u001b[39m.\u001b[39mfloat32), reward, terminated, \u001b[39mFalse\u001b[39;00m, {}\n",
      "File \u001b[1;32mc:\\Users\\icira\\AppData\\Local\\Programs\\Python\\Python311\\Lib\\site-packages\\gym\\envs\\box2d\\lunar_lander.py:710\u001b[0m, in \u001b[0;36mLunarLander.render\u001b[1;34m(self)\u001b[0m\n\u001b[0;32m    708\u001b[0m     \u001b[39mself\u001b[39m\u001b[39m.\u001b[39mscreen\u001b[39m.\u001b[39mblit(\u001b[39mself\u001b[39m\u001b[39m.\u001b[39msurf, (\u001b[39m0\u001b[39m, \u001b[39m0\u001b[39m))\n\u001b[0;32m    709\u001b[0m     pygame\u001b[39m.\u001b[39mevent\u001b[39m.\u001b[39mpump()\n\u001b[1;32m--> 710\u001b[0m     \u001b[39mself\u001b[39;49m\u001b[39m.\u001b[39;49mclock\u001b[39m.\u001b[39;49mtick(\u001b[39mself\u001b[39;49m\u001b[39m.\u001b[39;49mmetadata[\u001b[39m\"\u001b[39;49m\u001b[39mrender_fps\u001b[39;49m\u001b[39m\"\u001b[39;49m])\n\u001b[0;32m    711\u001b[0m     pygame\u001b[39m.\u001b[39mdisplay\u001b[39m.\u001b[39mflip()\n\u001b[0;32m    712\u001b[0m \u001b[39melif\u001b[39;00m \u001b[39mself\u001b[39m\u001b[39m.\u001b[39mrender_mode \u001b[39m==\u001b[39m \u001b[39m\"\u001b[39m\u001b[39mrgb_array\u001b[39m\u001b[39m\"\u001b[39m:\n",
      "\u001b[1;31mKeyboardInterrupt\u001b[0m: "
     ]
    }
   ],
   "source": [
    "start = time.time()\n",
    "\n",
    "num_episodes = 100\n",
    "max_num_timesteps = 1000\n",
    "\n",
    "total_point_history = []\n",
    "\n",
    "num_p_av = 100    # number of total points to use for averaging.\n",
    "epsilon = 1.0     # initial ε value for ε-greedy policy.\n",
    "\n",
    "# Create a memory buffer D with capacity N.\n",
    "memory_buffer = deque(maxlen=MEMORY_SIZE)\n",
    "\n",
    "# Set the target network weights equal to the Q-Network weights.\n",
    "target_q_network.set_weights(q_network.get_weights())\n",
    "\n",
    "for i in range(num_episodes):\n",
    "    \n",
    "    # Reset the environment to the initial state and get the initial state.\n",
    "    state = env.reset()[0]\n",
    "    total_points = 0\n",
    "    \n",
    "    for t in range(max_num_timesteps):\n",
    "        # From the current state S choose an action A using an ε-greedy policy.\n",
    "        state_qn = np.expand_dims(state, axis=0)  # state needs to be the right shape for the q_network.\n",
    "        q_values = q_network(state_qn)\n",
    "        action = utils_A1.get_action(q_values, epsilon)\n",
    "        \n",
    "        # Take action A and receive reward R and the next state S'.\n",
    "        next_state, reward, done, truncated, _ = env.step(action)\n",
    "        \n",
    "        # Store experience tuple (S,A,R,S') in the memory buffer.\n",
    "        # We store the done variable as well for convenience.\n",
    "        memory_buffer.append(experience(state, action, reward, next_state, done))\n",
    "        \n",
    "        # Only update the network every NUM_STEPS_FOR_UPDATE time steps.\n",
    "        update = utils_A1.check_update_conditions(t, NUM_STEPS_FOR_UPDATE, memory_buffer)\n",
    "        \n",
    "        if update:\n",
    "            # Sample random mini-batch of experience tuples (S,A,R,S') from D.\n",
    "            experiences = utils_A1.get_experiences(memory_buffer)\n",
    "            \n",
    "            # Set the y targets, perform a gradient descent step,\n",
    "            # and update the network weights.\n",
    "            agent_learn(experiences, GAMMA)\n",
    "        \n",
    "        state = next_state.copy()\n",
    "        total_points += reward\n",
    "        \n",
    "        if done:\n",
    "            break\n",
    "            \n",
    "    total_point_history.append(total_points)\n",
    "    av_latest_points = np.mean(total_point_history[-num_p_av:])\n",
    "    \n",
    "    # Update the ε value.\n",
    "    epsilon = utils_A1.get_new_eps(epsilon)\n",
    "\n",
    "    print(f\"\\rEpisode {i+1} | Total point average of the last {num_p_av} episodes: {av_latest_points:.2f}\", end=\"\")\n",
    "\n",
    "    if (i+1) % num_p_av == 0:\n",
    "        print(f\"\\rEpisode {i+1} | Total point average of the last {num_p_av} episodes: {av_latest_points:.2f}\")\n",
    "\n",
    "    # We will consider that the environment is solved if we get an\n",
    "    # average of 200 points in the last 100 episodes.\n",
    "    if av_latest_points >= 200.0:\n",
    "        print(f\"\\n\\nEnvironment solved in {i+1} episodes!\")\n",
    "        q_network.save('lunar_lander_model.h5')\n",
    "        break\n",
    "        \n",
    "tot_time = time.time() - start\n",
    "\n",
    "print(f\"\\nTotal Runtime: {tot_time:.2f} s ({(tot_time/60):.2f} min)\")"
   ]
  },
  {
   "cell_type": "markdown",
   "metadata": {},
   "source": [
    "Podemos representar la historia de puntos totales junto con la media móvil para ver cómo nuestro agente mejoró durante el entrenamiento. Si quieres saber más sobre las diferentes opciones de representación disponibles en la función `utils_A1.plot_history` te animamos a que eches un vistazo al módulo `utils_A1`."
   ]
  },
  {
   "cell_type": "code",
   "execution_count": null,
   "metadata": {
    "id": "E_EUXxurfe8m",
    "scrolled": false
   },
   "outputs": [
    {
     "data": {
      "image/png": "[encoded data removed]",
      "text/plain": [
       "<Figure size 720x504 with 1 Axes>"
      ]
     },
     "metadata": {},
     "output_type": "display_data"
    }
   ],
   "source": [
    "# Plot the total point history along with the moving average.\n",
    "utils_A1.plot_history(total_point_history)"
   ]
  },
  {
   "cell_type": "markdown",
   "metadata": {
    "id": "c_xwgaX5MnYt"
   },
   "source": [
    "## Visualizar el agente entrenado\n",
    "\n",
    "La función `utils_A1.create_video` puede usarse para crear un video con la historia de nuestro agente interactuando con el entorno usando la red neuronal $Q$ entrenada. La función `utils_A1.create_video` utiliza la librería `imageio` para crear el video. Esta librería produce algunos avisos que pueden ser molestos, por lo que para suprimir estos avisos ejecutamos el siguiente código.\n"
   ]
  },
  {
   "cell_type": "code",
   "execution_count": 90,
   "metadata": {},
   "outputs": [],
   "source": [
    "# Suppress warnings from imageio.\n",
    "import logging\n",
    "logging.getLogger().setLevel(logging.ERROR)"
   ]
  },
  {
   "cell_type": "code",
   "execution_count": 91,
   "metadata": {
    "id": "3Ttb_zLeJKiG"
   },
   "outputs": [
    {
     "ename": "ValueError",
     "evalue": "Could not find a backend to open `./videos/lunar_lander.mp4`` with iomode `w?`.\nBased on the extension, the following plugins might add capable backends:\n  FFMPEG:  pip install imageio[ffmpeg]\n  pyav:  pip install imageio[pyav]",
     "output_type": "error",
     "traceback": [
      "\u001b[1;31m---------------------------------------------------------------------------\u001b[0m",
      "\u001b[1;31mValueError\u001b[0m                                Traceback (most recent call last)",
      "\u001b[1;32mc:\\Users\\icira\\workspace_ceste\\ceste_ml\\notebooks\\13_ReinforcementLearning\\13_ReinforcementLearning.ipynb Cell 35\u001b[0m line \u001b[0;36m3\n\u001b[0;32m      <a href='vscode-notebook-cell:/c%3A/Users/icira/workspace_ceste/ceste_ml/notebooks/13_ReinforcementLearning/13_ReinforcementLearning.ipynb#X60sZmlsZQ%3D%3D?line=0'>1</a>\u001b[0m filename \u001b[39m=\u001b[39m \u001b[39m\"\u001b[39m\u001b[39m./videos/lunar_lander.mp4\u001b[39m\u001b[39m\"\u001b[39m\n\u001b[1;32m----> <a href='vscode-notebook-cell:/c%3A/Users/icira/workspace_ceste/ceste_ml/notebooks/13_ReinforcementLearning/13_ReinforcementLearning.ipynb#X60sZmlsZQ%3D%3D?line=2'>3</a>\u001b[0m utils_A1\u001b[39m.\u001b[39;49mcreate_video(filename, env, q_network)\n\u001b[0;32m      <a href='vscode-notebook-cell:/c%3A/Users/icira/workspace_ceste/ceste_ml/notebooks/13_ReinforcementLearning/13_ReinforcementLearning.ipynb#X60sZmlsZQ%3D%3D?line=3'>4</a>\u001b[0m utils_A1\u001b[39m.\u001b[39membed_mp4(filename)\n",
      "File \u001b[1;32mc:\\Users\\icira\\workspace_ceste\\ceste_ml\\notebooks\\13_ReinforcementLearning\\utils_A1.py:388\u001b[0m, in \u001b[0;36mcreate_video\u001b[1;34m(filename, env, q_network, fps)\u001b[0m\n\u001b[0;32m    359\u001b[0m \u001b[39mdef\u001b[39;00m \u001b[39mcreate_video\u001b[39m(filename, env, q_network, fps\u001b[39m=\u001b[39m\u001b[39m30\u001b[39m):\n\u001b[0;32m    360\u001b[0m \u001b[39m    \u001b[39m\u001b[39m\"\"\"\u001b[39;00m\n\u001b[0;32m    361\u001b[0m \u001b[39m    Creates a video of an agent interacting with a Gym environment.\u001b[39;00m\n\u001b[0;32m    362\u001b[0m \n\u001b[1;32m   (...)\u001b[0m\n\u001b[0;32m    385\u001b[0m \u001b[39m            video. The default frame rate is 30 frames per second.  \u001b[39;00m\n\u001b[0;32m    386\u001b[0m \u001b[39m    \"\"\"\u001b[39;00m\n\u001b[1;32m--> 388\u001b[0m     \u001b[39mwith\u001b[39;00m imageio\u001b[39m.\u001b[39;49mget_writer(filename, fps\u001b[39m=\u001b[39;49mfps) \u001b[39mas\u001b[39;00m video:\n\u001b[0;32m    389\u001b[0m         done \u001b[39m=\u001b[39m \u001b[39mFalse\u001b[39;00m\n\u001b[0;32m    390\u001b[0m         state \u001b[39m=\u001b[39m env\u001b[39m.\u001b[39mreset()\n",
      "File \u001b[1;32mc:\\Users\\icira\\AppData\\Local\\Programs\\Python\\Python311\\Lib\\site-packages\\imageio\\v2.py:324\u001b[0m, in \u001b[0;36mget_writer\u001b[1;34m(uri, format, mode, **kwargs)\u001b[0m\n\u001b[0;32m    321\u001b[0m imopen_args \u001b[39m=\u001b[39m decypher_format_arg(\u001b[39mformat\u001b[39m)\n\u001b[0;32m    322\u001b[0m imopen_args[\u001b[39m\"\u001b[39m\u001b[39mlegacy_mode\u001b[39m\u001b[39m\"\u001b[39m] \u001b[39m=\u001b[39m \u001b[39mTrue\u001b[39;00m\n\u001b[1;32m--> 324\u001b[0m image_file \u001b[39m=\u001b[39m imopen(uri, \u001b[39m\"\u001b[39;49m\u001b[39mw\u001b[39;49m\u001b[39m\"\u001b[39;49m \u001b[39m+\u001b[39;49m mode, \u001b[39m*\u001b[39;49m\u001b[39m*\u001b[39;49mimopen_args)\n\u001b[0;32m    325\u001b[0m \u001b[39mif\u001b[39;00m \u001b[39misinstance\u001b[39m(image_file, LegacyPlugin):\n\u001b[0;32m    326\u001b[0m     \u001b[39mreturn\u001b[39;00m image_file\u001b[39m.\u001b[39mlegacy_get_writer(\u001b[39m*\u001b[39m\u001b[39m*\u001b[39mkwargs)\n",
      "File \u001b[1;32mc:\\Users\\icira\\AppData\\Local\\Programs\\Python\\Python311\\Lib\\site-packages\\imageio\\core\\imopen.py:281\u001b[0m, in \u001b[0;36mimopen\u001b[1;34m(uri, io_mode, plugin, extension, format_hint, legacy_mode, **kwargs)\u001b[0m\n\u001b[0;32m    275\u001b[0m         err_msg \u001b[39m+\u001b[39m\u001b[39m=\u001b[39m (\n\u001b[0;32m    276\u001b[0m             \u001b[39m\"\u001b[39m\u001b[39m\\n\u001b[39;00m\u001b[39mBased on the extension, the following plugins might add capable backends:\u001b[39m\u001b[39m\\n\u001b[39;00m\u001b[39m\"\u001b[39m\n\u001b[0;32m    277\u001b[0m             \u001b[39mf\u001b[39m\u001b[39m\"\u001b[39m\u001b[39m{\u001b[39;00minstall_candidates\u001b[39m}\u001b[39;00m\u001b[39m\"\u001b[39m\n\u001b[0;32m    278\u001b[0m         )\n\u001b[0;32m    280\u001b[0m request\u001b[39m.\u001b[39mfinish()\n\u001b[1;32m--> 281\u001b[0m \u001b[39mraise\u001b[39;00m err_type(err_msg)\n",
      "\u001b[1;31mValueError\u001b[0m: Could not find a backend to open `./videos/lunar_lander.mp4`` with iomode `w?`.\nBased on the extension, the following plugins might add capable backends:\n  FFMPEG:  pip install imageio[ffmpeg]\n  pyav:  pip install imageio[pyav]"
     ]
    }
   ],
   "source": [
    "filename = \"./videos/lunar_lander.mp4\"\n",
    "\n",
    "utils_A1.create_video(filename, env, q_network)\n",
    "utils_A1.embed_mp4(filename)"
   ]
  }
 ],
 "metadata": {
  "accelerator": "GPU",
  "colab": {
   "collapsed_sections": [],
   "name": "TensorFlow - Lunar Lander.ipynb",
   "provenance": []
  },
  "kernelspec": {
   "display_name": "Python 3.10.1 64-bit",
   "language": "python",
   "name": "python3"
  },
  "language_info": {
   "codemirror_mode": {
    "name": "ipython",
    "version": 3
   },
   "file_extension": ".py",
   "mimetype": "text/x-python",
   "name": "python",
   "nbconvert_exporter": "python",
   "pygments_lexer": "ipython3",
   "version": "3.11.6"
  },
  "vscode": {
   "interpreter": {
    "hash": "743e5f6e975fa9c46c38dc633dd7da789e00a17da6f8c58487821b88596be462"
   }
  }
 },
 "nbformat": 4,
 "nbformat_minor": 1
}
