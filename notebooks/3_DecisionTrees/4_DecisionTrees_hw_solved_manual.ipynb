{
 "cells": [
  {
   "cell_type": "markdown",
   "metadata": {},
   "source": [
    "# Decision Trees: Homework"
   ]
  },
  {
   "cell_type": "markdown",
   "id": "c9bd7aad",
   "metadata": {},
   "source": [
    "## 1 -  Descripción del problema\n",
    "\n",
    "Imagina que eres un data scientist en un banco.\n",
    "El banco ha recopilado datos de los solicitantes de préstamos anteriores y si incumplieron o no sus préstamos.\n",
    "Tu tarea es utilizar estos datos para predecir si un nuevo solicitante es probable que pague su préstamo o lo incumpla.\n",
    "\n",
    "## 1 - Dataset\n",
    "\n",
    "El dataset está disponible en el archivo `loan_data.csv` y contiene la siguiente información:\n",
    "\n",
    "| Applicnt ID | Age | Income (USD 1000s) | Owns House (Yes/No) | Previous Default (Yes/No) | Approved (Yes/No) |\n",
    "|:-----------:|:---:|:------------------:|:-------------------:|:-------------------------:|:-----------------:|\n",
    "|      1      |  58 |         4          |          No         |             No            |         No        |\n",
    "|      2      |  24 |         6          |          No         |             No            |         Yes       |\n",
    "|      3      |  27 |         9          |          Yes        |             No            |         Yes       |\n",
    "|     ...     |  ... |         ...          |          ...        |             ...            |         ...       |\n",
    "\n",
    "Construir un árbol de decisión para decidir la aprobación de un préstamo en función de las características del solicitante.\n",
    "\n",
    "Pasos:\n",
    "\n",
    "Preprocesamiento de datos: Convertir características categóricas como \"Casa en propiedad\" e \"Impago anterior\" en valores numéricos (por ejemplo, Sí = 1, No = 0).\n",
    "\n",
    "Entrene un árbol de decisión: Utilice un algoritmo de árbol de decisión basado en los datos. Utilice el 80% de los datos para el entrenamiento y reserve el 20% para las pruebas.\n",
    "\n",
    "Visualice el árbol de decisión.\n",
    "\n",
    "Interpretación: Basándose en el árbol, deduzca algunas reglas que el banco parece estar utilizando para la aprobación de préstamos. Por ejemplo, si un nodo divide a los solicitantes en función de si son propietarios de una vivienda, y la mayoría de los que son propietarios obtienen la aprobación, podría deducir que poseer una vivienda aumenta las posibilidades de aprobación de un solicitante."
   ]
  },
  {
   "cell_type": "markdown",
   "id": "233e34b6",
   "metadata": {},
   "source": [
    "# 5. Solución Decision Tree Manual"
   ]
  },
  {
   "cell_type": "code",
   "execution_count": 38,
   "id": "d69fb5a2",
   "metadata": {},
   "outputs": [],
   "source": [
    "import pandas as pd\n",
    "import numpy as np\n",
    "import xgboost as xgb\n",
    "from sklearn.model_selection import train_test_split\n",
    "from sklearn.metrics import accuracy_score, classification_report\n",
    "\n",
    "# Load the dataset\n",
    "df = pd.read_csv('loan_data.csv')\n",
    "\n",
    "# Preprocess the data\n",
    "df['Owns House'] = df['Owns House'].map({'Yes': 1, 'No': 0})\n",
    "df['Previous Default'] = df['Previous Default'].map({'Yes': 1, 'No': 0})\n",
    "df['Approved'] = df['Approved'].map({'Yes': 1, 'No': 0})\n",
    "\n",
    "# Drop Age and Income\n",
    "\n",
    "# Splitting the dataset into training and test sets\n",
    "X = df.drop(columns=['Applicant ID', 'Age', 'Income ($1000s)', 'Approved'])\n",
    "y = df['Approved']\n",
    "\n",
    "X_train, X_test, y_train, y_test = train_test_split(X, y, test_size=0.2, random_state=42)"
   ]
  },
  {
   "cell_type": "code",
   "execution_count": 32,
   "id": "e5d9f1e9",
   "metadata": {},
   "outputs": [
    {
     "name": "stdout",
     "output_type": "stream",
     "text": [
      "Entropía root node:  0.9580420222262995\n"
     ]
    }
   ],
   "source": [
    "def compute_entropy(y):\n",
    "    entropy = 0.\n",
    "    \n",
    "    if len(y) != 0:   \n",
    "        p1 = len(y[y==1]) / len(y)\n",
    "        p0 = 1-p1\n",
    "        \n",
    "        if p1 != 0 and p1 != 1:\n",
    "            entropy = -p1*np.log2(p1)-p0*np.log2(p0)   \n",
    "    \n",
    "    return entropy\n",
    "\n",
    "print(\"Entropía root node: \", compute_entropy(y_train)) "
   ]
  },
  {
   "cell_type": "code",
   "execution_count": 33,
   "id": "0c04cbb1",
   "metadata": {},
   "outputs": [],
   "source": [
    "def split_dataset(X, node_indices, feature):\n",
    "    # You need to return the following variables correctly\n",
    "    left_indices = []\n",
    "    right_indices = []\n",
    "    \n",
    "    for i in node_indices:\n",
    "        if X[:i+1, feature][i] == 1:\n",
    "            left_indices.append(i)\n",
    "        else:\n",
    "            right_indices.append(i)\n",
    "        \n",
    "    return left_indices, right_indices"
   ]
  },
  {
   "cell_type": "code",
   "execution_count": 34,
   "id": "aa42043a",
   "metadata": {},
   "outputs": [],
   "source": [
    "def compute_information_gain(X, y, node_indices, feature):  \n",
    "    # Split dataset\n",
    "    left_indices, right_indices = split_dataset(X, node_indices, feature)\n",
    "\n",
    "    print(\"C\")\n",
    "    \n",
    "    # Some useful variables\n",
    "    X_node, y_node = X[node_indices], y[node_indices]\n",
    "    X_left, y_left = X[left_indices], y[left_indices]\n",
    "    X_right, y_right = X[right_indices], y[right_indices]\n",
    "    \n",
    "    # You need to return the following variables correctly\n",
    "    information_gain = 0\n",
    "    \n",
    "    entropy_node = compute_entropy(y_node)\n",
    "    entropy_left = compute_entropy(y_left)\n",
    "    entropy_right = compute_entropy(y_right)\n",
    "    \n",
    "    w_left = len(X_left) / len(X_node)\n",
    "    w_right = len(X_right) / len(X_node)\n",
    "    \n",
    "    information_gain = entropy_node - ((w_left * entropy_left) + (w_right * entropy_right))\n",
    "    \n",
    "    return information_gain"
   ]
  },
  {
   "cell_type": "code",
   "execution_count": 35,
   "id": "7ace0ffd",
   "metadata": {},
   "outputs": [],
   "source": [
    "def get_best_split(X, y, node_indices):   \n",
    "    # Some useful variables\n",
    "    num_features = X.shape[1]\n",
    "    print(\"A\", num_features)\n",
    "    \n",
    "    # You need to return the following variables correctly\n",
    "    best_feature = 0\n",
    "    max_info_gain = 0\n",
    "    \n",
    "    for feature in range(num_features):\n",
    "        info_gain = compute_information_gain(X, y, node_indices, feature=feature)\n",
    "        print(\"B\", info_gain)\n",
    "        \n",
    "        if info_gain > max_info_gain:\n",
    "            max_info_gain = info_gain\n",
    "            best_feature = feature\n",
    "   \n",
    "    return best_feature"
   ]
  },
  {
   "cell_type": "code",
   "execution_count": 36,
   "id": "b2212692",
   "metadata": {},
   "outputs": [],
   "source": [
    "tree = []\n",
    "\n",
    "def build_tree_recursive(X, y, node_indices, branch_name, max_depth, current_depth):\n",
    "    # Maximum depth reached - stop splitting\n",
    "    if current_depth == max_depth:\n",
    "        formatting = \" \"*current_depth + \"-\"*current_depth\n",
    "        print(formatting, \"%s leaf node with indices\" % branch_name, node_indices)\n",
    "        return\n",
    "   \n",
    "    # Otherwise, get best split and split the data\n",
    "    # Get the best feature and threshold at this node\n",
    "    best_feature = get_best_split(X, y, node_indices) \n",
    "    \n",
    "    formatting = \"-\"*current_depth\n",
    "    print(\"%s Depth %d, %s: Split on feature: %d\" % (formatting, current_depth, branch_name, best_feature))\n",
    "    \n",
    "    # Split the dataset at the best feature\n",
    "    left_indices, right_indices = split_dataset(X, node_indices, best_feature)\n",
    "    tree.append((left_indices, right_indices, best_feature))\n",
    "    \n",
    "    # continue splitting the left and the right child. Increment current depth\n",
    "    build_tree_recursive(X, y, left_indices, \"Left\", max_depth, current_depth+1)\n",
    "    build_tree_recursive(X, y, right_indices, \"Right\", max_depth, current_depth+1)"
   ]
  },
  {
   "cell_type": "code",
   "execution_count": 37,
   "id": "ae571b96",
   "metadata": {},
   "outputs": [
    {
     "name": "stdout",
     "output_type": "stream",
     "text": [
      "A 2\n"
     ]
    },
    {
     "ename": "InvalidIndexError",
     "evalue": "(slice(None, 1, None), 0)",
     "output_type": "error",
     "traceback": [
      "\u001b[1;31m---------------------------------------------------------------------------\u001b[0m",
      "\u001b[1;31mTypeError\u001b[0m                                 Traceback (most recent call last)",
      "File \u001b[1;32mc:\\Users\\icira\\AppData\\Local\\Programs\\Python\\Python311\\Lib\\site-packages\\pandas\\core\\indexes\\base.py:3802\u001b[0m, in \u001b[0;36mIndex.get_loc\u001b[1;34m(self, key, method, tolerance)\u001b[0m\n\u001b[0;32m   3801\u001b[0m \u001b[39mtry\u001b[39;00m:\n\u001b[1;32m-> 3802\u001b[0m     \u001b[39mreturn\u001b[39;00m \u001b[39mself\u001b[39;49m\u001b[39m.\u001b[39;49m_engine\u001b[39m.\u001b[39;49mget_loc(casted_key)\n\u001b[0;32m   3803\u001b[0m \u001b[39mexcept\u001b[39;00m \u001b[39mKeyError\u001b[39;00m \u001b[39mas\u001b[39;00m err:\n",
      "File \u001b[1;32mc:\\Users\\icira\\AppData\\Local\\Programs\\Python\\Python311\\Lib\\site-packages\\pandas\\_libs\\index.pyx:138\u001b[0m, in \u001b[0;36mpandas._libs.index.IndexEngine.get_loc\u001b[1;34m()\u001b[0m\n",
      "File \u001b[1;32mc:\\Users\\icira\\AppData\\Local\\Programs\\Python\\Python311\\Lib\\site-packages\\pandas\\_libs\\index.pyx:144\u001b[0m, in \u001b[0;36mpandas._libs.index.IndexEngine.get_loc\u001b[1;34m()\u001b[0m\n",
      "\u001b[1;31mTypeError\u001b[0m: '(slice(None, 1, None), 0)' is an invalid key",
      "\nDuring handling of the above exception, another exception occurred:\n",
      "\u001b[1;31mInvalidIndexError\u001b[0m                         Traceback (most recent call last)",
      "\u001b[1;32mc:\\Users\\icira\\wCrkspace\\ceste_ml\\notebooks\\4_DecisionTrees\\4_DecisionTrees_hw_solved.ipynb Cell 17\u001b[0m line \u001b[0;36m4\n\u001b[0;32m      <a href='vscode-notebook-cell:/c%3A/Users/icira/wCrkspace/ceste_ml/notebooks/4_DecisionTrees/4_DecisionTrees_hw_solved.ipynb#X24sZmlsZQ%3D%3D?line=0'>1</a>\u001b[0m root_indices \u001b[39m=\u001b[39m [i \u001b[39mfor\u001b[39;00m i \u001b[39min\u001b[39;00m \u001b[39mrange\u001b[39m(\u001b[39mlen\u001b[39m(X_train))]\n\u001b[1;32m----> <a href='vscode-notebook-cell:/c%3A/Users/icira/wCrkspace/ceste_ml/notebooks/4_DecisionTrees/4_DecisionTrees_hw_solved.ipynb#X24sZmlsZQ%3D%3D?line=3'>4</a>\u001b[0m build_tree_recursive(X_train, y_train, root_indices, \u001b[39m\"\u001b[39;49m\u001b[39mRoot\u001b[39;49m\u001b[39m\"\u001b[39;49m, max_depth\u001b[39m=\u001b[39;49m\u001b[39m10\u001b[39;49m, current_depth\u001b[39m=\u001b[39;49m\u001b[39m0\u001b[39;49m)\n",
      "\u001b[1;32mc:\\Users\\icira\\wCrkspace\\ceste_ml\\notebooks\\4_DecisionTrees\\4_DecisionTrees_hw_solved.ipynb Cell 17\u001b[0m line \u001b[0;36m1\n\u001b[0;32m      <a href='vscode-notebook-cell:/c%3A/Users/icira/wCrkspace/ceste_ml/notebooks/4_DecisionTrees/4_DecisionTrees_hw_solved.ipynb#X24sZmlsZQ%3D%3D?line=7'>8</a>\u001b[0m     \u001b[39mreturn\u001b[39;00m\n\u001b[0;32m     <a href='vscode-notebook-cell:/c%3A/Users/icira/wCrkspace/ceste_ml/notebooks/4_DecisionTrees/4_DecisionTrees_hw_solved.ipynb#X24sZmlsZQ%3D%3D?line=9'>10</a>\u001b[0m \u001b[39m# Otherwise, get best split and split the data\u001b[39;00m\n\u001b[0;32m     <a href='vscode-notebook-cell:/c%3A/Users/icira/wCrkspace/ceste_ml/notebooks/4_DecisionTrees/4_DecisionTrees_hw_solved.ipynb#X24sZmlsZQ%3D%3D?line=10'>11</a>\u001b[0m \u001b[39m# Get the best feature and threshold at this node\u001b[39;00m\n\u001b[1;32m---> <a href='vscode-notebook-cell:/c%3A/Users/icira/wCrkspace/ceste_ml/notebooks/4_DecisionTrees/4_DecisionTrees_hw_solved.ipynb#X24sZmlsZQ%3D%3D?line=11'>12</a>\u001b[0m best_feature \u001b[39m=\u001b[39m get_best_split(X, y, node_indices) \n\u001b[0;32m     <a href='vscode-notebook-cell:/c%3A/Users/icira/wCrkspace/ceste_ml/notebooks/4_DecisionTrees/4_DecisionTrees_hw_solved.ipynb#X24sZmlsZQ%3D%3D?line=13'>14</a>\u001b[0m formatting \u001b[39m=\u001b[39m \u001b[39m\"\u001b[39m\u001b[39m-\u001b[39m\u001b[39m\"\u001b[39m\u001b[39m*\u001b[39mcurrent_depth\n\u001b[0;32m     <a href='vscode-notebook-cell:/c%3A/Users/icira/wCrkspace/ceste_ml/notebooks/4_DecisionTrees/4_DecisionTrees_hw_solved.ipynb#X24sZmlsZQ%3D%3D?line=14'>15</a>\u001b[0m \u001b[39mprint\u001b[39m(\u001b[39m\"\u001b[39m\u001b[39m%s\u001b[39;00m\u001b[39m Depth \u001b[39m\u001b[39m%d\u001b[39;00m\u001b[39m, \u001b[39m\u001b[39m%s\u001b[39;00m\u001b[39m: Split on feature: \u001b[39m\u001b[39m%d\u001b[39;00m\u001b[39m\"\u001b[39m \u001b[39m%\u001b[39m (formatting, current_depth, branch_name, best_feature))\n",
      "\u001b[1;32mc:\\Users\\icira\\wCrkspace\\ceste_ml\\notebooks\\4_DecisionTrees\\4_DecisionTrees_hw_solved.ipynb Cell 17\u001b[0m line \u001b[0;36m1\n\u001b[0;32m      <a href='vscode-notebook-cell:/c%3A/Users/icira/wCrkspace/ceste_ml/notebooks/4_DecisionTrees/4_DecisionTrees_hw_solved.ipynb#X24sZmlsZQ%3D%3D?line=7'>8</a>\u001b[0m max_info_gain \u001b[39m=\u001b[39m \u001b[39m0\u001b[39m\n\u001b[0;32m     <a href='vscode-notebook-cell:/c%3A/Users/icira/wCrkspace/ceste_ml/notebooks/4_DecisionTrees/4_DecisionTrees_hw_solved.ipynb#X24sZmlsZQ%3D%3D?line=9'>10</a>\u001b[0m \u001b[39mfor\u001b[39;00m feature \u001b[39min\u001b[39;00m \u001b[39mrange\u001b[39m(num_features):\n\u001b[1;32m---> <a href='vscode-notebook-cell:/c%3A/Users/icira/wCrkspace/ceste_ml/notebooks/4_DecisionTrees/4_DecisionTrees_hw_solved.ipynb#X24sZmlsZQ%3D%3D?line=10'>11</a>\u001b[0m     info_gain \u001b[39m=\u001b[39m compute_information_gain(X, y, node_indices, feature\u001b[39m=\u001b[39;49mfeature)\n\u001b[0;32m     <a href='vscode-notebook-cell:/c%3A/Users/icira/wCrkspace/ceste_ml/notebooks/4_DecisionTrees/4_DecisionTrees_hw_solved.ipynb#X24sZmlsZQ%3D%3D?line=11'>12</a>\u001b[0m     \u001b[39mprint\u001b[39m(\u001b[39m\"\u001b[39m\u001b[39mB\u001b[39m\u001b[39m\"\u001b[39m, info_gain)\n\u001b[0;32m     <a href='vscode-notebook-cell:/c%3A/Users/icira/wCrkspace/ceste_ml/notebooks/4_DecisionTrees/4_DecisionTrees_hw_solved.ipynb#X24sZmlsZQ%3D%3D?line=13'>14</a>\u001b[0m     \u001b[39mif\u001b[39;00m info_gain \u001b[39m>\u001b[39m max_info_gain:\n",
      "\u001b[1;32mc:\\Users\\icira\\wCrkspace\\ceste_ml\\notebooks\\4_DecisionTrees\\4_DecisionTrees_hw_solved.ipynb Cell 17\u001b[0m line \u001b[0;36m3\n\u001b[0;32m      <a href='vscode-notebook-cell:/c%3A/Users/icira/wCrkspace/ceste_ml/notebooks/4_DecisionTrees/4_DecisionTrees_hw_solved.ipynb#X24sZmlsZQ%3D%3D?line=0'>1</a>\u001b[0m \u001b[39mdef\u001b[39;00m \u001b[39mcompute_information_gain\u001b[39m(X, y, node_indices, feature):  \n\u001b[0;32m      <a href='vscode-notebook-cell:/c%3A/Users/icira/wCrkspace/ceste_ml/notebooks/4_DecisionTrees/4_DecisionTrees_hw_solved.ipynb#X24sZmlsZQ%3D%3D?line=1'>2</a>\u001b[0m     \u001b[39m# Split dataset\u001b[39;00m\n\u001b[1;32m----> <a href='vscode-notebook-cell:/c%3A/Users/icira/wCrkspace/ceste_ml/notebooks/4_DecisionTrees/4_DecisionTrees_hw_solved.ipynb#X24sZmlsZQ%3D%3D?line=2'>3</a>\u001b[0m     left_indices, right_indices \u001b[39m=\u001b[39m split_dataset(X, node_indices, feature)\n\u001b[0;32m      <a href='vscode-notebook-cell:/c%3A/Users/icira/wCrkspace/ceste_ml/notebooks/4_DecisionTrees/4_DecisionTrees_hw_solved.ipynb#X24sZmlsZQ%3D%3D?line=4'>5</a>\u001b[0m     \u001b[39mprint\u001b[39m(\u001b[39m\"\u001b[39m\u001b[39mC\u001b[39m\u001b[39m\"\u001b[39m)\n\u001b[0;32m      <a href='vscode-notebook-cell:/c%3A/Users/icira/wCrkspace/ceste_ml/notebooks/4_DecisionTrees/4_DecisionTrees_hw_solved.ipynb#X24sZmlsZQ%3D%3D?line=6'>7</a>\u001b[0m     \u001b[39m# Some useful variables\u001b[39;00m\n",
      "\u001b[1;32mc:\\Users\\icira\\wCrkspace\\ceste_ml\\notebooks\\4_DecisionTrees\\4_DecisionTrees_hw_solved.ipynb Cell 17\u001b[0m line \u001b[0;36m7\n\u001b[0;32m      <a href='vscode-notebook-cell:/c%3A/Users/icira/wCrkspace/ceste_ml/notebooks/4_DecisionTrees/4_DecisionTrees_hw_solved.ipynb#X24sZmlsZQ%3D%3D?line=3'>4</a>\u001b[0m right_indices \u001b[39m=\u001b[39m []\n\u001b[0;32m      <a href='vscode-notebook-cell:/c%3A/Users/icira/wCrkspace/ceste_ml/notebooks/4_DecisionTrees/4_DecisionTrees_hw_solved.ipynb#X24sZmlsZQ%3D%3D?line=5'>6</a>\u001b[0m \u001b[39mfor\u001b[39;00m i \u001b[39min\u001b[39;00m node_indices:\n\u001b[1;32m----> <a href='vscode-notebook-cell:/c%3A/Users/icira/wCrkspace/ceste_ml/notebooks/4_DecisionTrees/4_DecisionTrees_hw_solved.ipynb#X24sZmlsZQ%3D%3D?line=6'>7</a>\u001b[0m     \u001b[39mif\u001b[39;00m X[:i\u001b[39m+\u001b[39;49m\u001b[39m1\u001b[39;49m, feature][i] \u001b[39m==\u001b[39m \u001b[39m1\u001b[39m:\n\u001b[0;32m      <a href='vscode-notebook-cell:/c%3A/Users/icira/wCrkspace/ceste_ml/notebooks/4_DecisionTrees/4_DecisionTrees_hw_solved.ipynb#X24sZmlsZQ%3D%3D?line=7'>8</a>\u001b[0m         left_indices\u001b[39m.\u001b[39mappend(i)\n\u001b[0;32m      <a href='vscode-notebook-cell:/c%3A/Users/icira/wCrkspace/ceste_ml/notebooks/4_DecisionTrees/4_DecisionTrees_hw_solved.ipynb#X24sZmlsZQ%3D%3D?line=8'>9</a>\u001b[0m     \u001b[39melse\u001b[39;00m:\n",
      "File \u001b[1;32mc:\\Users\\icira\\AppData\\Local\\Programs\\Python\\Python311\\Lib\\site-packages\\pandas\\core\\frame.py:3807\u001b[0m, in \u001b[0;36mDataFrame.__getitem__\u001b[1;34m(self, key)\u001b[0m\n\u001b[0;32m   3805\u001b[0m \u001b[39mif\u001b[39;00m \u001b[39mself\u001b[39m\u001b[39m.\u001b[39mcolumns\u001b[39m.\u001b[39mnlevels \u001b[39m>\u001b[39m \u001b[39m1\u001b[39m:\n\u001b[0;32m   3806\u001b[0m     \u001b[39mreturn\u001b[39;00m \u001b[39mself\u001b[39m\u001b[39m.\u001b[39m_getitem_multilevel(key)\n\u001b[1;32m-> 3807\u001b[0m indexer \u001b[39m=\u001b[39m \u001b[39mself\u001b[39;49m\u001b[39m.\u001b[39;49mcolumns\u001b[39m.\u001b[39;49mget_loc(key)\n\u001b[0;32m   3808\u001b[0m \u001b[39mif\u001b[39;00m is_integer(indexer):\n\u001b[0;32m   3809\u001b[0m     indexer \u001b[39m=\u001b[39m [indexer]\n",
      "File \u001b[1;32mc:\\Users\\icira\\AppData\\Local\\Programs\\Python\\Python311\\Lib\\site-packages\\pandas\\core\\indexes\\base.py:3809\u001b[0m, in \u001b[0;36mIndex.get_loc\u001b[1;34m(self, key, method, tolerance)\u001b[0m\n\u001b[0;32m   3804\u001b[0m         \u001b[39mraise\u001b[39;00m \u001b[39mKeyError\u001b[39;00m(key) \u001b[39mfrom\u001b[39;00m \u001b[39merr\u001b[39;00m\n\u001b[0;32m   3805\u001b[0m     \u001b[39mexcept\u001b[39;00m \u001b[39mTypeError\u001b[39;00m:\n\u001b[0;32m   3806\u001b[0m         \u001b[39m# If we have a listlike key, _check_indexing_error will raise\u001b[39;00m\n\u001b[0;32m   3807\u001b[0m         \u001b[39m#  InvalidIndexError. Otherwise we fall through and re-raise\u001b[39;00m\n\u001b[0;32m   3808\u001b[0m         \u001b[39m#  the TypeError.\u001b[39;00m\n\u001b[1;32m-> 3809\u001b[0m         \u001b[39mself\u001b[39;49m\u001b[39m.\u001b[39;49m_check_indexing_error(key)\n\u001b[0;32m   3810\u001b[0m         \u001b[39mraise\u001b[39;00m\n\u001b[0;32m   3812\u001b[0m \u001b[39m# GH#42269\u001b[39;00m\n",
      "File \u001b[1;32mc:\\Users\\icira\\AppData\\Local\\Programs\\Python\\Python311\\Lib\\site-packages\\pandas\\core\\indexes\\base.py:5925\u001b[0m, in \u001b[0;36mIndex._check_indexing_error\u001b[1;34m(self, key)\u001b[0m\n\u001b[0;32m   5921\u001b[0m \u001b[39mdef\u001b[39;00m \u001b[39m_check_indexing_error\u001b[39m(\u001b[39mself\u001b[39m, key):\n\u001b[0;32m   5922\u001b[0m     \u001b[39mif\u001b[39;00m \u001b[39mnot\u001b[39;00m is_scalar(key):\n\u001b[0;32m   5923\u001b[0m         \u001b[39m# if key is not a scalar, directly raise an error (the code below\u001b[39;00m\n\u001b[0;32m   5924\u001b[0m         \u001b[39m# would convert to numpy arrays and raise later any way) - GH29926\u001b[39;00m\n\u001b[1;32m-> 5925\u001b[0m         \u001b[39mraise\u001b[39;00m InvalidIndexError(key)\n",
      "\u001b[1;31mInvalidIndexError\u001b[0m: (slice(None, 1, None), 0)"
     ]
    }
   ],
   "source": [
    "root_indices = [i for i in range(len(X_train))]\n",
    "\n",
    "\n",
    "build_tree_recursive(X_train, y_train, root_indices, \"Root\", max_depth=10, current_depth=0)"
   ]
  },
  {
   "cell_type": "code",
   "execution_count": null,
   "id": "91acca65",
   "metadata": {},
   "outputs": [],
   "source": []
  }
 ],
 "metadata": {
  "kernelspec": {
   "display_name": "Python 3",
   "language": "python",
   "name": "python3"
  },
  "language_info": {
   "codemirror_mode": {
    "name": "ipython",
    "version": 3
   },
   "file_extension": ".py",
   "mimetype": "text/x-python",
   "name": "python",
   "nbconvert_exporter": "python",
   "pygments_lexer": "ipython3",
   "version": "3.11.0"
  }
 },
 "nbformat": 4,
 "nbformat_minor": 5
}
