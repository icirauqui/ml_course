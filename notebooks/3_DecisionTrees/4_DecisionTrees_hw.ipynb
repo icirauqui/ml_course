{
 "cells": [
  {
   "cell_type": "markdown",
   "metadata": {},
   "source": [
    "# Decision Trees: Homework"
   ]
  },
  {
   "cell_type": "markdown",
   "id": "c9bd7aad",
   "metadata": {},
   "source": [
    "## 1 -  Descripción del problema\n",
    "\n",
    "Imagina que eres un data scientist en un banco.\n",
    "El banco ha recopilado datos de los solicitantes de préstamos anteriores y si incumplieron o no sus préstamos.\n",
    "Tu tarea es utilizar estos datos para predecir si un nuevo solicitante es probable que pague su préstamo o lo incumpla.\n",
    "\n",
    "## 1 - Dataset\n",
    "\n",
    "El dataset está disponible en el archivo `loan_data.csv` y contiene la siguiente información:\n",
    "\n",
    "| Applicnt ID | Age | Income (USD 1000s) | Owns House (Yes/No) | Previous Default (Yes/No) | Approved (Yes/No) |\n",
    "|:-----------:|:---:|:------------------:|:-------------------:|:-------------------------:|:-----------------:|\n",
    "|      1      |  58 |         4          |          No         |             No            |         No        |\n",
    "|      2      |  24 |         6          |          No         |             No            |         Yes       |\n",
    "|      3      |  27 |         9          |          Yes        |             No            |         Yes       |\n",
    "|     ...     |  ... |         ...          |          ...        |             ...            |         ...       |\n",
    "\n",
    "Construir un árbol de decisión para decidir la aprobación de un préstamo en función de las características del solicitante.\n",
    "\n",
    "Pasos:\n",
    "\n",
    "Preprocesamiento de datos: Convertir características categóricas como \"Casa en propiedad\" e \"Impago anterior\" en valores numéricos (por ejemplo, Sí = 1, No = 0).\n",
    "\n",
    "Entrene un árbol de decisión: Utilice un algoritmo de árbol de decisión basado en los datos. Utilice el 80% de los datos para el entrenamiento y reserve el 20% para las pruebas.\n",
    "\n",
    "Visualice el árbol de decisión.\n",
    "\n",
    "Interpretación: Basándose en el árbol, deduzca algunas reglas que el banco parece estar utilizando para la aprobación de préstamos. Por ejemplo, si un nodo divide a los solicitantes en función de si son propietarios de una vivienda, y la mayoría de los que son propietarios obtienen la aprobación, podría deducir que poseer una vivienda aumenta las posibilidades de aprobación de un solicitante."
   ]
  },
  {
   "cell_type": "markdown",
   "id": "8354f529",
   "metadata": {},
   "source": [
    "*Respuesta: al resolver con XGBoost, se puede alcanzar una precisión del 94%.*"
   ]
  },
  {
   "cell_type": "markdown",
   "id": "adf27a97",
   "metadata": {},
   "source": []
  }
 ],
 "metadata": {
  "kernelspec": {
   "display_name": "Python 3",
   "language": "python",
   "name": "python3"
  },
  "language_info": {
   "codemirror_mode": {
    "name": "ipython",
    "version": 3
   },
   "file_extension": ".py",
   "mimetype": "text/x-python",
   "name": "python",
   "nbconvert_exporter": "python",
   "pygments_lexer": "ipython3",
   "version": "3.11.0"
  }
 },
 "nbformat": 4,
 "nbformat_minor": 5
}
