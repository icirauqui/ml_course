{
 "cells": [
  {
   "cell_type": "markdown",
   "metadata": {},
   "source": [
    "# Graph Neural Networks: Cora Dataset Pytorch"
   ]
  },
  {
   "cell_type": "markdown",
   "metadata": {},
   "source": [
    "El \"Cora Dataset\" es un dataset de clasificación de documentos. Contiene 2708 documentos científicos clasificados en una de las siguientes categorías:\n",
    "\n",
    "- Case_Based\n",
    "- Genetic_Algorithms\n",
    "- Neural_Networks\n",
    "- Probabilistic_Methods\n",
    "- Reinforcement_Learning\n",
    "- Rule_Learning\n",
    "- Theory\n",
    "\n",
    "Cada nodo representa un documento, y cada arista representa una citación entre dos documentos.\n",
    "\n",
    "Los nodos contienen características de texto que se han extraído de los documentos. Por ejemplo: el título del artículo, las palabras clave y el resumen.\n",
    " \n",
    "El objetivo es entrenar un modelo de GNN para predecir la categoría de cada documento."
   ]
  },
  {
   "cell_type": "code",
   "execution_count": 55,
   "metadata": {},
   "outputs": [],
   "source": [
    "from typing import Callable, List, Optional, Tuple\n",
    "import random\n",
    "\n",
    "import os\n",
    "import matplotlib.pyplot as plt\n",
    "import numpy as np\n",
    "import torch\n",
    "import torch.nn.functional as F\n",
    "import torch_geometric.transforms as T\n",
    "from torch import Tensor\n",
    "from torch.optim import Optimizer\n",
    "from torch_geometric.data import Data\n",
    "from torch_geometric.datasets import Planetoid\n",
    "from torch_geometric.nn import GCNConv\n",
    "from typing_extensions import Literal, TypedDict"
   ]
  },
  {
   "cell_type": "markdown",
   "metadata": {},
   "source": [
    "Los nodos se cargan desde `cora.content` y las aristas desde `cora.cites`. El archivo `cora.content` contiene una fila por nodo, y la primera columna representa el ID del nodo. Las columnas restantes representan las características de los nodos, que incluyen:\n",
    "\n",
    "- 1433 características binarias que representan la presencia / ausencia de palabras clave del vocabulario de la bolsa de palabras.\n",
    "- 1 característica binaria que representa la presencia / ausencia de la palabra clave \"references\" (en el documento original, esta característica se utiliza para distinguir los documentos de la base de datos de los documentos de la bibliografía).\n",
    "- 1 característica numérica que representa el año de publicación del documento.\n",
    "\n",
    "Las aristas se cargan como una lista de pares de nodos (origen, destino), donde cada par representa una arista desde el nodo de origen al nodo de destino.\n"
   ]
  },
  {
   "cell_type": "code",
   "execution_count": 56,
   "metadata": {},
   "outputs": [
    {
     "name": "stdout",
     "output_type": "stream",
     "text": [
      "Dataset: Cora\n",
      "Num. nodes: 2708 (train=140, val=500, test=1000, other=1068)\n",
      "Num. edges: 5278\n",
      "Num. node features: 1433\n",
      "Num. classes: 7\n",
      "Dataset len.: 1\n"
     ]
    },
    {
     "name": "stderr",
     "output_type": "stream",
     "text": [
      "c:\\Users\\icira\\AppData\\Local\\Programs\\Python\\Python311\\Lib\\site-packages\\torch_geometric\\data\\in_memory_dataset.py:284: UserWarning: It is not recommended to directly access the internal storage format `data` of an 'InMemoryDataset'. If you are absolutely certain what you are doing, access the internal storage via `InMemoryDataset._data` instead to suppress this warning. Alternatively, you can access stacked individual attributes of every graph via `dataset.{attr_name}`.\n",
      "  warnings.warn(msg)\n"
     ]
    }
   ],
   "source": [
    "dataset = Planetoid(\"/tmp/Cora\", name=\"Cora\")\n",
    "num_nodes = dataset.data.num_nodes\n",
    "# For num. edges see:\n",
    "# - https://github.com/pyg-team/pytorch_geometric/issues/343\n",
    "# - https://github.com/pyg-team/pytorch_geometric/issues/852\n",
    "num_edges = dataset.data.num_edges // 2\n",
    "train_len = dataset[0].train_mask.sum()\n",
    "val_len = dataset[0].val_mask.sum()\n",
    "test_len = dataset[0].test_mask.sum()\n",
    "other_len = num_nodes - train_len - val_len - test_len\n",
    "print(f\"Dataset: {dataset.name}\")\n",
    "print(f\"Num. nodes: {num_nodes} (train={train_len}, val={val_len}, test={test_len}, other={other_len})\")\n",
    "print(f\"Num. edges: {num_edges}\")\n",
    "print(f\"Num. node features: {dataset.num_node_features}\")\n",
    "print(f\"Num. classes: {dataset.num_classes}\")\n",
    "print(f\"Dataset len.: {dataset.len()}\")"
   ]
  },
  {
   "cell_type": "code",
   "execution_count": 57,
   "metadata": {},
   "outputs": [
    {
     "name": "stdout",
     "output_type": "stream",
     "text": [
      "Sum of row values without normalization: tensor([ 9., 23., 19.,  ..., 18., 14., 13.])\n",
      "Sum of row values with normalization: tensor([1.0000, 1.0000, 1.0000,  ..., 1.0000, 1.0000, 1.0000])\n"
     ]
    }
   ],
   "source": [
    "dataset = Planetoid(\"/tmp/Cora\", name=\"Cora\")\n",
    "print(f\"Sum of row values without normalization: {dataset[0].x.sum(dim=-1)}\")\n",
    "\n",
    "dataset = Planetoid(\"/tmp/Cora\", name=\"Cora\", transform=T.NormalizeFeatures())\n",
    "print(f\"Sum of row values with normalization: {dataset[0].x.sum(dim=-1)}\")"
   ]
  },
  {
   "cell_type": "code",
   "execution_count": 45,
   "metadata": {},
   "outputs": [],
   "source": [
    "class GCN(torch.nn.Module):\n",
    "    def __init__(\n",
    "        self,\n",
    "        num_node_features: int,\n",
    "        num_classes: int,\n",
    "        hidden_dim: int = 16,\n",
    "        dropout_rate: float = 0.5,\n",
    "    ) -> None:\n",
    "        super().__init__()\n",
    "        self.dropout1 = torch.nn.Dropout(dropout_rate)\n",
    "        self.conv1 = GCNConv(num_node_features, hidden_dim)\n",
    "        self.relu = torch.nn.ReLU(inplace=True)\n",
    "        self.dropout2 = torch.nn.Dropout(dropout_rate)\n",
    "        self.conv2 = GCNConv(hidden_dim, num_classes)\n",
    "\n",
    "    def forward(self, x: Tensor, edge_index: Tensor) -> torch.Tensor:\n",
    "        x = self.dropout1(x)\n",
    "        x = self.conv1(x, edge_index)\n",
    "        x = self.relu(x)\n",
    "        x = self.dropout2(x)\n",
    "        x = self.conv2(x, edge_index)\n",
    "        return x"
   ]
  },
  {
   "cell_type": "code",
   "execution_count": 46,
   "metadata": {},
   "outputs": [
    {
     "name": "stdout",
     "output_type": "stream",
     "text": [
      "Graph Convolutional Network (GCN):\n"
     ]
    },
    {
     "data": {
      "text/plain": [
       "GCN(\n",
       "  (dropout1): Dropout(p=0.5, inplace=False)\n",
       "  (conv1): GCNConv(1433, 16)\n",
       "  (relu): ReLU(inplace=True)\n",
       "  (dropout2): Dropout(p=0.5, inplace=False)\n",
       "  (conv2): GCNConv(16, 7)\n",
       ")"
      ]
     },
     "execution_count": 46,
     "metadata": {},
     "output_type": "execute_result"
    }
   ],
   "source": [
    "print(\"Graph Convolutional Network (GCN):\")\n",
    "GCN(dataset.num_node_features, dataset.num_classes)"
   ]
  },
  {
   "cell_type": "code",
   "execution_count": 48,
   "metadata": {},
   "outputs": [],
   "source": [
    "def accuracy(pred, target):\n",
    "    r\"\"\"Computes the accuracy of predictions.\n",
    "\n",
    "    Args:\n",
    "        pred (Tensor): The predictions.\n",
    "        target (Tensor): The targets.\n",
    "\n",
    "    :rtype: int\n",
    "    \"\"\"\n",
    "    return (pred == target).sum().item() / target.numel()"
   ]
  },
  {
   "cell_type": "code",
   "execution_count": 49,
   "metadata": {},
   "outputs": [],
   "source": [
    "LossFn = Callable[[Tensor, Tensor], Tensor]\n",
    "Stage = Literal[\"train\", \"val\", \"test\"]\n",
    "\n",
    "\n",
    "def train_step(\n",
    "    model: torch.nn.Module, data: Data, optimizer: torch.optim.Optimizer, loss_fn: LossFn\n",
    ") -> Tuple[float, float]:\n",
    "    model.train()\n",
    "    optimizer.zero_grad()\n",
    "    mask = data.train_mask\n",
    "    logits = model(data.x, data.edge_index)[mask]\n",
    "    preds = logits.argmax(dim=1)\n",
    "    y = data.y[mask]\n",
    "    loss = loss_fn(logits, y)\n",
    "    # + L2 regularization to the first layer only\n",
    "    # for name, params in model.state_dict().items():\n",
    "    #     if name.startswith(\"conv1\"):\n",
    "    #         loss += 5e-4 * params.square().sum() / 2.0\n",
    "\n",
    "    acc = accuracy(preds, y)\n",
    "    loss.backward()\n",
    "    optimizer.step()\n",
    "    return loss.item(), acc\n",
    "\n",
    "\n",
    "@torch.no_grad()\n",
    "def eval_step(model: torch.nn.Module, data: Data, loss_fn: LossFn, stage: Stage) -> Tuple[float, float]:\n",
    "    model.eval()\n",
    "    mask = getattr(data, f\"{stage}_mask\")\n",
    "    logits = model(data.x, data.edge_index)[mask]\n",
    "    preds = logits.argmax(dim=1)\n",
    "    y = data.y[mask]\n",
    "    loss = loss_fn(logits, y)\n",
    "    # + L2 regularization to the first layer only\n",
    "    # for name, params in model.state_dict().items():\n",
    "    #     if name.startswith(\"conv1\"):\n",
    "    #         loss += 5e-4 * params.square().sum() / 2.0\n",
    "\n",
    "    acc = accuracy(preds, y)\n",
    "    return loss.item(), acc"
   ]
  },
  {
   "cell_type": "code",
   "execution_count": 51,
   "metadata": {},
   "outputs": [],
   "source": [
    "class HistoryDict(TypedDict):\n",
    "    loss: List[float]\n",
    "    acc: List[float]\n",
    "    val_loss: List[float]\n",
    "    val_acc: List[float]\n",
    "\n",
    "\n",
    "def train(\n",
    "    model: torch.nn.Module,\n",
    "    data: Data,\n",
    "    optimizer: torch.optim.Optimizer,\n",
    "    loss_fn: LossFn = torch.nn.CrossEntropyLoss(),\n",
    "    max_epochs: int = 200,\n",
    "    early_stopping: int = 10,\n",
    "    print_interval: int = 20,\n",
    "    verbose: bool = True,\n",
    ") -> HistoryDict:\n",
    "    history = {\"loss\": [], \"val_loss\": [], \"acc\": [], \"val_acc\": []}\n",
    "    for epoch in range(max_epochs):\n",
    "        loss, acc = train_step(model, data, optimizer, loss_fn)\n",
    "        val_loss, val_acc = eval_step(model, data, loss_fn, \"val\")\n",
    "        history[\"loss\"].append(loss)\n",
    "        history[\"acc\"].append(acc)\n",
    "        history[\"val_loss\"].append(val_loss)\n",
    "        history[\"val_acc\"].append(val_acc)\n",
    "        # The official implementation in TensorFlow is a little different from what is described in the paper...\n",
    "        if epoch > early_stopping and val_loss > np.mean(history[\"val_loss\"][-(early_stopping + 1) : -1]):\n",
    "            if verbose:\n",
    "                print(\"\\nEarly stopping...\")\n",
    "\n",
    "            break\n",
    "\n",
    "        if verbose and epoch % print_interval == 0:\n",
    "            print(f\"\\nEpoch: {epoch}\\n----------\")\n",
    "            print(f\"Train loss: {loss:.4f} | Train acc: {acc:.4f}\")\n",
    "            print(f\"  Val loss: {val_loss:.4f} |   Val acc: {val_acc:.4f}\")\n",
    "\n",
    "    test_loss, test_acc = eval_step(model, data, loss_fn, \"test\")\n",
    "    if verbose:\n",
    "        print(f\"\\nEpoch: {epoch}\\n----------\")\n",
    "        print(f\"Train loss: {loss:.4f} | Train acc: {acc:.4f}\")\n",
    "        print(f\"  Val loss: {val_loss:.4f} |   Val acc: {val_acc:.4f}\")\n",
    "        print(f\" Test loss: {test_loss:.4f} |  Test acc: {test_acc:.4f}\")\n",
    "\n",
    "    return history"
   ]
  },
  {
   "cell_type": "code",
   "execution_count": 52,
   "metadata": {},
   "outputs": [],
   "source": [
    "def plot_history(history: HistoryDict, title: str, font_size: Optional[int] = 14) -> None:\n",
    "    plt.suptitle(title, fontsize=font_size)\n",
    "    ax1 = plt.subplot(121)\n",
    "    ax1.set_title(\"Loss\")\n",
    "    ax1.plot(history[\"loss\"], label=\"train\")\n",
    "    ax1.plot(history[\"val_loss\"], label=\"val\")\n",
    "    plt.xlabel(\"Epoch\")\n",
    "    ax1.legend()\n",
    "\n",
    "    ax2 = plt.subplot(122)\n",
    "    ax2.set_title(\"Accuracy\")\n",
    "    ax2.plot(history[\"acc\"], label=\"train\")\n",
    "    ax2.plot(history[\"val_acc\"], label=\"val\")\n",
    "    plt.xlabel(\"Epoch\")\n",
    "    ax2.legend()"
   ]
  },
  {
   "cell_type": "code",
   "execution_count": 53,
   "metadata": {},
   "outputs": [
    {
     "name": "stdout",
     "output_type": "stream",
     "text": [
      "\n",
      "Epoch: 0\n",
      "----------\n",
      "Train loss: 1.9456 | Train acc: 0.1357\n",
      "  Val loss: 1.9459 |   Val acc: 0.1080\n",
      "\n",
      "Epoch: 20\n",
      "----------\n",
      "Train loss: 1.7069 | Train acc: 0.7786\n",
      "  Val loss: 1.8023 |   Val acc: 0.5740\n",
      "\n",
      "Epoch: 40\n",
      "----------\n",
      "Train loss: 1.3244 | Train acc: 0.8143\n",
      "  Val loss: 1.5744 |   Val acc: 0.7380\n",
      "\n",
      "Epoch: 60\n",
      "----------\n",
      "Train loss: 0.9808 | Train acc: 0.8643\n",
      "  Val loss: 1.3290 |   Val acc: 0.7560\n",
      "\n",
      "Epoch: 80\n",
      "----------\n",
      "Train loss: 0.7544 | Train acc: 0.8643\n",
      "  Val loss: 1.1251 |   Val acc: 0.7840\n",
      "\n",
      "Epoch: 100\n",
      "----------\n",
      "Train loss: 0.5765 | Train acc: 0.9357\n",
      "  Val loss: 1.0017 |   Val acc: 0.7860\n",
      "\n",
      "Epoch: 120\n",
      "----------\n",
      "Train loss: 0.5093 | Train acc: 0.9500\n",
      "  Val loss: 0.9663 |   Val acc: 0.7700\n",
      "\n",
      "Early stopping...\n",
      "\n",
      "Epoch: 132\n",
      "----------\n",
      "Train loss: 0.4602 | Train acc: 0.9571\n",
      "  Val loss: 0.9237 |   Val acc: 0.7780\n",
      " Test loss: 0.8932 |  Test acc: 0.8020\n"
     ]
    },
    {
     "data": {
      "image/png": "[encoded data removed]",
      "text/plain": [
       "<Figure size 1200x400 with 2 Axes>"
      ]
     },
     "metadata": {},
     "output_type": "display_data"
    }
   ],
   "source": [
    "SEED = 42\n",
    "MAX_EPOCHS = 200\n",
    "LEARNING_RATE = 0.01\n",
    "WEIGHT_DECAY = 5e-4\n",
    "EARLY_STOPPING = 10\n",
    "\n",
    "\n",
    "torch.manual_seed(SEED)\n",
    "device = torch.device(\"cuda\" if torch.cuda.is_available() else \"cpu\")\n",
    "\n",
    "model = GCN(dataset.num_node_features, dataset.num_classes).to(device)\n",
    "data = dataset[0].to(device)\n",
    "optimizer = torch.optim.Adam(model.parameters(), lr=LEARNING_RATE, weight_decay=WEIGHT_DECAY)\n",
    "history = train(model, data, optimizer, max_epochs=MAX_EPOCHS, early_stopping=EARLY_STOPPING)\n",
    "\n",
    "plt.figure(figsize=(12, 4))\n",
    "plot_history(history, \"GCN\")"
   ]
  },
  {
   "cell_type": "markdown",
   "metadata": {},
   "source": [
    "# Graph Neural Networks: Cora Dataset Pytorch"
   ]
  },
  {
   "cell_type": "markdown",
   "metadata": {},
   "source": [
    "El \"Cora Dataset\" es un dataset de clasificación de documentos. Contiene 2708 documentos científicos clasificados en una de las siguientes categorías:\n",
    "\n",
    "- Case_Based\n",
    "- Genetic_Algorithms\n",
    "- Neural_Networks\n",
    "- Probabilistic_Methods\n",
    "- Reinforcement_Learning\n",
    "- Rule_Learning\n",
    "- Theory\n",
    "\n",
    "Cada nodo representa un documento, y cada arista representa una citación entre dos documentos.\n",
    "\n",
    "Los nodos contienen características de texto que se han extraído de los documentos. Por ejemplo: el título del artículo, las palabras clave y el resumen.\n",
    " \n",
    "El objetivo es entrenar un modelo de GNN para predecir la categoría de cada documento."
   ]
  },
  {
   "cell_type": "code",
   "execution_count": 28,
   "metadata": {},
   "outputs": [],
   "source": [
    "import  torch\n",
    "import  torch.nn.functional     as F\n",
    "from    torch_geometric.nn      import GCNConv\n",
    "from torch_geometric.data import Data\n",
    "import  numpy                   as np\n",
    "import  pandas                  as pd\n",
    "from    sklearn.preprocessing   import  LabelEncoder"
   ]
  },
  {
   "cell_type": "code",
   "execution_count": 29,
   "metadata": {},
   "outputs": [],
   "source": [
    "# Load data\n",
    "cora_df         = pd.read_csv('cora/cora.content', header=None, sep='\\t')\n",
    "cora_cites      = pd.read_csv('cora/cora.cites', header=None, sep='\\t')\n",
    "\n",
    "cora_df   \n",
    "labels          = cora_df.iloc[:, -1].values\n",
    "le              = LabelEncoder()\n",
    "labels_y        = le.fit_transform(labels)\n",
    "edge_index      = torch.tensor(cora_cites.values.T, dtype=torch.long)\n",
    "\n",
    "node_ids        = cora_df.iloc[:, 0].values\n",
    "id_map          = {node_id: i for i, node_id in enumerate(node_ids)}\n",
    "cora_df[0].replace(id_map, inplace=True)\n",
    "cora_cites[0]   = cora_cites[0].map(id_map)\n",
    "cora_cites[1]   = cora_cites[1].map(id_map)\n"
   ]
  },
  {
   "cell_type": "code",
   "execution_count": 30,
   "metadata": {},
   "outputs": [
    {
     "data": {
      "image/png": "[encoded data removed]",
      "text/plain": [
       "<Figure size 640x480 with 1 Axes>"
      ]
     },
     "metadata": {},
     "output_type": "display_data"
    }
   ],
   "source": [
    "# Visualize the graph\n",
    "import matplotlib.pyplot as plt\n",
    "import networkx as nx\n",
    "G = nx.Graph()\n",
    "G.add_nodes_from(range(len(labels)))\n",
    "G.add_edges_from(cora_cites.values)\n",
    "nx.draw(G, node_size=10)\n",
    "plt.show()\n"
   ]
  },
  {
   "cell_type": "code",
   "execution_count": 32,
   "metadata": {},
   "outputs": [],
   "source": [
    "# Get the node features and the target labels\n",
    "node_features   = torch.randn(10, 5)                                                                    \n",
    "edge_index      = torch.tensor([[0, 1, 2, 3, 4, 5, 6, 7, 8, 9], [1, 2, 3, 4, 5, 6, 7, 8, 9, 0]])\n",
    "labels          = torch.tensor([0, 1, 0, 1, 0, 1, 0, 1, 0, 1])                                          \n",
    "train_mask      = torch.tensor([True, True, False, False, True, True, False, False, False, False])\n",
    "test_mask       = torch.tensor([False, False, False, False, False, False, False, False, True, True])\n",
    "data1           = Data(x=node_features, edge_index=edge_index, y=labels, train_mask=train_mask, test_mask=test_mask)            \n",
    "\n",
    "\n",
    "# and the following is our final preprocess result\n",
    "node_features2  = torch.tensor(np.array(cora_df.iloc[:, 1:-1]), dtype=torch.float)   \n",
    "edge_index2     = torch.tensor(cora_cites.values.T, dtype=torch.int64)\n",
    "labels2         = torch.tensor(labels_y, dtype=torch.int64) \n",
    "train_mask2     = torch.tensor([True]*1500 + [False]*1208)\n",
    "test_mask2      = torch.tensor([False]*1500 + [True]*1208)\n",
    "data2           = Data(x=node_features2, edge_index=edge_index2, y=labels2, train_mask=train_mask2, test_mask=test_mask2)"
   ]
  },
  {
   "cell_type": "code",
   "execution_count": 21,
   "metadata": {},
   "outputs": [
    {
     "name": "stderr",
     "output_type": "stream",
     "text": [
      "Downloading https://github.com/kimiyoung/planetoid/raw/master/data/ind.cora.x\n",
      "Downloading https://github.com/kimiyoung/planetoid/raw/master/data/ind.cora.tx\n",
      "Downloading https://github.com/kimiyoung/planetoid/raw/master/data/ind.cora.allx\n",
      "Downloading https://github.com/kimiyoung/planetoid/raw/master/data/ind.cora.y\n",
      "Downloading https://github.com/kimiyoung/planetoid/raw/master/data/ind.cora.ty\n",
      "Downloading https://github.com/kimiyoung/planetoid/raw/master/data/ind.cora.ally\n",
      "Downloading https://github.com/kimiyoung/planetoid/raw/master/data/ind.cora.graph\n",
      "Downloading https://github.com/kimiyoung/planetoid/raw/master/data/ind.cora.test.index\n",
      "Processing...\n",
      "Done!\n"
     ]
    },
    {
     "data": {
      "text/plain": [
       "tensor([False, False, False,  ...,  True,  True,  True])"
      ]
     },
     "execution_count": 21,
     "metadata": {},
     "output_type": "execute_result"
    }
   ],
   "source": [
    "import torch\n",
    "import torch.nn.functional as F\n",
    "from torch_geometric.nn import GCNConv\n",
    "from torch_geometric.datasets import Planetoid\n",
    "\n",
    "# Load Cora dataset\n",
    "dataset = Planetoid(root='/tmp/cora', name='Cora')      # This is very simple for us to demo.\n",
    "data_we_want    = dataset[0]\n",
    "data_we_want.x              # this is very important\n",
    "data_we_want.edge_index     # and we should focus on \n",
    "data_we_want.y              # these data form\n",
    "data_we_want.train_mask     # and if you are sensitive \n",
    "data_we_want.val_mask       # you will find it's all\n",
    "data_we_want.test_mask      # built by tensor"
   ]
  },
  {
   "cell_type": "code",
   "execution_count": 22,
   "metadata": {},
   "outputs": [],
   "source": [
    "class GCN(torch.nn.Module):\n",
    "    def __init__(self, hidden_channels):\n",
    "        super(GCN, self).__init__()\n",
    "        self.conv1 = GCNConv(dataset.num_features, hidden_channels)\n",
    "        self.conv2 = GCNConv(hidden_channels, dataset.num_classes)\n",
    "\n",
    "    def forward(self, x, edge_index):\n",
    "        x = F.relu(self.conv1(x, edge_index))\n",
    "        x = F.dropout(x, training=self.training)\n",
    "        x = self.conv2(x, edge_index)\n",
    "        return F.log_softmax(x, dim=1)"
   ]
  },
  {
   "cell_type": "code",
   "execution_count": 23,
   "metadata": {},
   "outputs": [],
   "source": [
    "device = torch.device('cuda' if torch.cuda.is_available() else 'cpu')\n",
    "model = GCN(hidden_channels=16).to(device)\n",
    "data_t = data2.to(device)\n",
    "optimizer = torch.optim.Adam(model.parameters(), lr=0.01, weight_decay=5e-4)"
   ]
  },
  {
   "cell_type": "code",
   "execution_count": 24,
   "metadata": {},
   "outputs": [],
   "source": [
    "def train():\n",
    "    model.train()\n",
    "    optimizer.zero_grad()\n",
    "    out = model(data_t.x, data_t.edge_index)\n",
    "    loss = F.nll_loss(out[data_t.train_mask], data_t.y[data_t.train_mask])\n",
    "    loss.backward()\n",
    "    optimizer.step()\n",
    "    return loss.item()\n",
    "\n",
    "def test():\n",
    "    model.eval()\n",
    "    out = model(data_t.x, data_t.edge_index)\n",
    "    pred = out.argmax(dim=1)\n",
    "    acc = (pred[data_t.test_mask] == data_t.y[data_t.test_mask]).sum().item() / data_t.test_mask.sum().item()\n",
    "    return acc\n",
    "\n"
   ]
  },
  {
   "cell_type": "code",
   "execution_count": 26,
   "metadata": {},
   "outputs": [
    {
     "name": "stdout",
     "output_type": "stream",
     "text": [
      "Epoch: 010, Loss: 0.1738, Accuracy: 0.8005\n",
      "Epoch: 020, Loss: 0.1777, Accuracy: 0.8005\n",
      "Epoch: 030, Loss: 0.1753, Accuracy: 0.7972\n",
      "Epoch: 040, Loss: 0.1711, Accuracy: 0.7997\n",
      "Epoch: 050, Loss: 0.1690, Accuracy: 0.7988\n",
      "Epoch: 060, Loss: 0.1641, Accuracy: 0.7964\n",
      "Epoch: 070, Loss: 0.1723, Accuracy: 0.7972\n",
      "Epoch: 080, Loss: 0.1559, Accuracy: 0.7988\n",
      "Epoch: 090, Loss: 0.1597, Accuracy: 0.7997\n",
      "Epoch: 100, Loss: 0.1675, Accuracy: 0.7914\n",
      "Epoch: 110, Loss: 0.1743, Accuracy: 0.7955\n",
      "Epoch: 120, Loss: 0.1721, Accuracy: 0.7955\n",
      "Epoch: 130, Loss: 0.1488, Accuracy: 0.7955\n",
      "Epoch: 140, Loss: 0.1555, Accuracy: 0.7922\n",
      "Epoch: 150, Loss: 0.1600, Accuracy: 0.7980\n",
      "Epoch: 160, Loss: 0.1515, Accuracy: 0.7972\n",
      "Epoch: 170, Loss: 0.1551, Accuracy: 0.7972\n",
      "Epoch: 180, Loss: 0.1637, Accuracy: 0.7914\n",
      "Epoch: 190, Loss: 0.1507, Accuracy: 0.7939\n",
      "Epoch: 200, Loss: 0.1510, Accuracy: 0.7906\n"
     ]
    }
   ],
   "source": [
    "for epoch in range(1, 201):\n",
    "    loss = train()\n",
    "    acc = test()\n",
    "    if epoch % 10 == 0:\n",
    "        print(f'Epoch: {epoch:03d}, Loss: {loss:.4f}, Accuracy: {acc:.4f}')"
   ]
  },
  {
   "cell_type": "markdown",
   "metadata": {},
   "source": []
  }
 ],
 "metadata": {
  "kernelspec": {
   "display_name": "Python 3",
   "language": "python",
   "name": "python3"
  },
  "language_info": {
   "codemirror_mode": {
    "name": "ipython",
    "version": 3
   },
   "file_extension": ".py",
   "mimetype": "text/x-python",
   "name": "python",
   "nbconvert_exporter": "python",
   "pygments_lexer": "ipython3",
   "version": "3.11.6"
  }
 },
 "nbformat": 4,
 "nbformat_minor": 2
}
