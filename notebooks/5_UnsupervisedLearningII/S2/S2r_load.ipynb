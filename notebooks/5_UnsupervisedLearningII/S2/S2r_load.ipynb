{
  "nbformat": 4,
  "nbformat_minor": 0,
  "metadata": {
    "colab": {
      "provenance": []
    },
    "kernelspec": {
      "name": "python3",
      "display_name": "Python 3"
    },
    "language_info": {
      "name": "python"
    }
  },
  "cells": [
    {
      "cell_type": "code",
      "execution_count": 2,
      "metadata": {
        "id": "rm85M9qa3kUd"
      },
      "outputs": [],
      "source": [
        "from sklearn.cluster import KMeans\n",
        "import joblib\n",
        "import pandas as pd"
      ]
    },
    {
      "cell_type": "code",
      "source": [
        "# load kmeans from file\n",
        "kmeans_inigo_carga = joblib.load(\"kmeans_inigo_final.pkl\")"
      ],
      "metadata": {
        "id": "W9BEz5cB5FYu"
      },
      "execution_count": 3,
      "outputs": []
    },
    {
      "cell_type": "code",
      "source": [
        "data = pd.read_csv('bank_nuevo.csv')\n",
        "data = data.iloc[:, :8]"
      ],
      "metadata": {
        "id": "AdqlaqdY5NcR"
      },
      "execution_count": 9,
      "outputs": []
    },
    {
      "cell_type": "code",
      "source": [
        "data_kmeans = pd.get_dummies(data, drop_first=True)"
      ],
      "metadata": {
        "id": "OffhReV25qaY"
      },
      "execution_count": 10,
      "outputs": []
    },
    {
      "cell_type": "code",
      "source": [
        "kmeans_inigo_carga.predict(data_kmeans)"
      ],
      "metadata": {
        "colab": {
          "base_uri": "https://localhost:8080/"
        },
        "id": "B9aRBR145MF0",
        "outputId": "422d3603-9068-40b9-a1a4-30ad86e81b9e"
      },
      "execution_count": 11,
      "outputs": [
        {
          "output_type": "stream",
          "name": "stderr",
          "text": [
            "/usr/local/lib/python3.10/dist-packages/sklearn/base.py:432: UserWarning: X has feature names, but KMeans was fitted without feature names\n",
            "  warnings.warn(\n"
          ]
        },
        {
          "output_type": "execute_result",
          "data": {
            "text/plain": [
              "array([2, 1, 2, ..., 1, 1, 1], dtype=int32)"
            ]
          },
          "metadata": {},
          "execution_count": 11
        }
      ]
    },
    {
      "cell_type": "code",
      "source": [],
      "metadata": {
        "id": "VXff7AsP6N37"
      },
      "execution_count": null,
      "outputs": []
    }
  ]
}