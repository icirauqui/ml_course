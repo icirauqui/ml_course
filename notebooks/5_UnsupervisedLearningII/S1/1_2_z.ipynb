{
 "cells": [
  {
   "cell_type": "markdown",
   "metadata": {},
   "source": [
    "## Datasets"
   ]
  },
  {
   "cell_type": "markdown",
   "metadata": {},
   "source": [
    "Datasets with link:\n",
    "\n",
    "- [Fortune Global 2000 Companies (2021)](https://www.kaggle.com/datasets/shivamb/fortune-global-2000-companies-till-2021)\n",
    "- [Fortune 500 Companies of 2017 in US](https://www.kaggle.com/datasets/shaz13/fotune500-2017)\n",
    "- [Fortune 500 Companies](https://www.kaggle.com/datasets/rm1000/fortune-500-companies)\n",
    "- [S&P 500 Companies with Financial Information](https://www.kaggle.com/datasets/paytonfisher/sp-500-companies-with-financial-information)"
   ]
  },
  {
   "cell_type": "code",
   "execution_count": null,
   "metadata": {
    "vscode": {
     "languageId": "plaintext"
    }
   },
   "outputs": [],
   "source": []
  },
  {
   "cell_type": "markdown",
   "metadata": {},
   "source": []
  }
 ],
 "metadata": {
  "kernelspec": {
   "display_name": "Python 3",
   "language": "python",
   "name": "python3"
  },
  "language_info": {
   "codemirror_mode": {
    "name": "ipython",
    "version": 3
   },
   "file_extension": ".py",
   "mimetype": "text/x-python",
   "name": "python",
   "nbconvert_exporter": "python",
   "pygments_lexer": "ipython3",
   "version": "3.11.6"
  }
 },
 "nbformat": 4,
 "nbformat_minor": 2
}
